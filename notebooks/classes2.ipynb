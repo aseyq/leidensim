{
  "nbformat": 4,
  "nbformat_minor": 0,
  "metadata": {
    "colab": {
      "name": "classes2.ipynb",
      "provenance": []
    },
    "kernelspec": {
      "name": "python3",
      "display_name": "Python 3"
    }
  },
  "cells": [
    {
      "cell_type": "markdown",
      "metadata": {
        "id": "wihh2C2vEwAI"
      },
      "source": [
        "\n",
        "<img src=\"https://www.saral.it/img/BasePlayer.png\"> </br>\n",
        "\n",
        "\n",
        "\n",
        "Now that we have a functioning base player, we can crate specific classes for each game.\n",
        "\n",
        "Let's load our class definition from the previous file:\n"
      ]
    },
    {
      "cell_type": "code",
      "metadata": {
        "id": "AOyAHYszEtn3"
      },
      "source": [
        "import random\n",
        "letters = \"abcdefghijklmnoprstuvwxyz\"\n",
        "\n",
        "class BasePlayer:\n",
        "    def __init__(self):\n",
        "        randomletters = random.choices(letters, k=5)\n",
        "        self.name = ''.join(randomletters)\n",
        "        self.points = 0\n",
        "        self.partner = None\n",
        "\n",
        "    def win(self):\n",
        "        print(\"I am \" + self.name +\" and I won!\" )\n",
        "        self.points += 1\n",
        "\n",
        "    def resign(self):\n",
        "        print(\"Oh snap. I am \" + self.name + \" and ok I lose.\")\n",
        "        self.points -= 1\n",
        "        self.partner.win()\n",
        "\n",
        "    def set_partner(self, p):\n",
        "        self.partner = p\n",
        "        p.partner = self"
      ],
      "execution_count": null,
      "outputs": []
    },
    {
      "cell_type": "markdown",
      "metadata": {
        "id": "AIEFfgt6FZIn"
      },
      "source": [
        "Let's start with our Chess Player. We said we need:\n",
        "\n",
        "*   The chess player's `status` will be defined as `normal`, `in_check`. Can also put the other in check. "
      ]
    },
    {
      "cell_type": "code",
      "metadata": {
        "id": "26SGTX1VFYyr"
      },
      "source": [
        "class ChessPlayer(BasePlayer):\n",
        "    def __init__(self):\n",
        "        randomletters = random.choices(letters, k=5)\n",
        "        self.name = ''.join(randomletters)\n",
        "        self.points = 0\n",
        "        self.partner = None\n",
        "\n",
        "        self.status = \"normal\"\n",
        "\n",
        "    def put_in_check(self):\n",
        "        print(\"Ha! Check! I wonder what you do next!\")\n",
        "        self.partner.status = \"in_check\""
      ],
      "execution_count": null,
      "outputs": []
    },
    {
      "cell_type": "code",
      "metadata": {
        "id": "cVsIkka-MdIL",
        "colab": {
          "base_uri": "https://localhost:8080/"
        },
        "outputId": "a2cdf922-799b-4801-deae-4a57c481c678"
      },
      "source": [
        "cp1 = ChessPlayer()\n",
        "cp2 = ChessPlayer()\n",
        "cp1.set_partner(cp2)\n",
        "print(\"cp1\", cp1.name, cp1.points, cp1.partner.name)\n",
        "print(\"cp2\", cp2.name, cp2.points, cp2.partner.name)"
      ],
      "execution_count": null,
      "outputs": [
        {
          "output_type": "stream",
          "text": [
            "cp1 nkjlp 0 wbkkp\n",
            "cp2 wbkkp 0 nkjlp\n"
          ],
          "name": "stdout"
        }
      ]
    },
    {
      "cell_type": "code",
      "metadata": {
        "id": "rqu_YtIi2I4e",
        "colab": {
          "base_uri": "https://localhost:8080/"
        },
        "outputId": "aff2ad3a-bf02-403c-de39-f9fe02a8993f"
      },
      "source": [
        "cp1.put_in_check()"
      ],
      "execution_count": null,
      "outputs": [
        {
          "output_type": "stream",
          "text": [
            "Ha! Check! I wonder what you do next!\n"
          ],
          "name": "stdout"
        }
      ]
    },
    {
      "cell_type": "code",
      "metadata": {
        "id": "wUzpsMfM2Sgq",
        "colab": {
          "base_uri": "https://localhost:8080/",
          "height": 35
        },
        "outputId": "7d72d418-4d6a-4b2e-9641-f9fb2f6f3e55"
      },
      "source": [
        "cp2.status"
      ],
      "execution_count": null,
      "outputs": [
        {
          "output_type": "execute_result",
          "data": {
            "application/vnd.google.colaboratory.intrinsic+json": {
              "type": "string"
            },
            "text/plain": [
              "'in_check'"
            ]
          },
          "metadata": {
            "tags": []
          },
          "execution_count": 36
        }
      ]
    },
    {
      "cell_type": "markdown",
      "metadata": {
        "id": "TMoHbboQOY0F"
      },
      "source": [
        "Let's remember our Backgammon player. It was meant to be:\n",
        "\n",
        "* The backgammon player will have the dice outcome will have the option to `roll_die`.\n",
        "\n",
        "There is nothing particular about it but we can quickly copy paste our chess player and modify the class to suit our needs."
      ]
    },
    {
      "cell_type": "code",
      "metadata": {
        "id": "b6-euE7KPBEM"
      },
      "source": [
        "import random\n",
        "class BackgammonPlayer(BasePlayer):\n",
        "    def roll_dice(self):\n",
        "         dice = random.choices(range(1,7), k=2) \n",
        "         return dice \n",
        "  #..."
      ],
      "execution_count": null,
      "outputs": []
    },
    {
      "cell_type": "code",
      "metadata": {
        "colab": {
          "base_uri": "https://localhost:8080/"
        },
        "id": "jrMdRf8dXrkJ",
        "outputId": "9dc63668-cef1-475b-f99e-dba49e76ecb1"
      },
      "source": [
        "bp1 = BackgammonPlayer()\n",
        "bp1.roll_dice()\n"
      ],
      "execution_count": null,
      "outputs": [
        {
          "output_type": "execute_result",
          "data": {
            "text/plain": [
              "[5, 4]"
            ]
          },
          "metadata": {
            "tags": []
          },
          "execution_count": 54
        }
      ]
    },
    {
      "cell_type": "code",
      "metadata": {
        "id": "EBTg1jq22lXK"
      },
      "source": [
        "bp1 = BackgammonPlayer()\n",
        "bp2 = BackgammonPlayer()\n",
        "bp3 = BackgammonPlayer()\n",
        "cp1 = ChessPlayer()\n",
        "cp2 = ChessPlayer()\n",
        "cp3 = ChessPlayer()"
      ],
      "execution_count": null,
      "outputs": []
    },
    {
      "cell_type": "code",
      "metadata": {
        "id": "iyThDC4U2po7",
        "colab": {
          "base_uri": "https://localhost:8080/"
        },
        "outputId": "fb67d8da-49bf-40cd-d290-d12a0c50ce65"
      },
      "source": [
        "bp1.roll_dice()"
      ],
      "execution_count": null,
      "outputs": [
        {
          "output_type": "execute_result",
          "data": {
            "text/plain": [
              "[5, 3]"
            ]
          },
          "metadata": {
            "tags": []
          },
          "execution_count": 57
        }
      ]
    },
    {
      "cell_type": "markdown",
      "metadata": {
        "id": "21qxIGJkQTco"
      },
      "source": [
        "Okay, now that we have both types of players, lets generate a list of them."
      ]
    },
    {
      "cell_type": "code",
      "metadata": {
        "id": "wqB_RRVF25tM"
      },
      "source": [
        "players = [bp1, bp2, bp3, cp1, cp2, cp3]"
      ],
      "execution_count": null,
      "outputs": []
    },
    {
      "cell_type": "code",
      "metadata": {
        "id": "1RkWW4QR3GGa"
      },
      "source": [
        "for p in players:\n",
        "  p.points += random.choice(range(0, 100))"
      ],
      "execution_count": null,
      "outputs": []
    },
    {
      "cell_type": "code",
      "metadata": {
        "id": "BOg9-Cge3P76",
        "colab": {
          "base_uri": "https://localhost:8080/"
        },
        "outputId": "830eaf26-6b35-452a-b777-dcb0ce8ada51"
      },
      "source": [
        "for p in players:\n",
        "  print(p.name, p.points)"
      ],
      "execution_count": null,
      "outputs": [
        {
          "output_type": "stream",
          "text": [
            "bgrdc 33\n",
            "rcysu 78\n",
            "jkisx 79\n",
            "afril 13\n",
            "tklhd 43\n",
            "bdetf 14\n"
          ],
          "name": "stdout"
        }
      ]
    },
    {
      "cell_type": "code",
      "metadata": {
        "id": "pc2BdMQ53TrX",
        "colab": {
          "base_uri": "https://localhost:8080/"
        },
        "outputId": "3519ab1a-961a-42f7-c493-cee10f2a8f45"
      },
      "source": [
        "cp1.win()"
      ],
      "execution_count": null,
      "outputs": [
        {
          "output_type": "stream",
          "text": [
            "I am afril and I won!\n"
          ],
          "name": "stdout"
        }
      ]
    },
    {
      "cell_type": "code",
      "metadata": {
        "id": "5NLqze_Z4Xnl"
      },
      "source": [
        ""
      ],
      "execution_count": null,
      "outputs": []
    }
  ]
}