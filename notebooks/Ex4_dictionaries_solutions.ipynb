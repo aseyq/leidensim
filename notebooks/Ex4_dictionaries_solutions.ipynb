{
 "cells": [
  {
   "cell_type": "markdown",
   "id": "3b112e4d",
   "metadata": {},
   "source": [
    "### Ex 4.2 - Take the names list and turn them into a dictionary."
   ]
  },
  {
   "cell_type": "code",
   "execution_count": 9,
   "id": "bfcce164",
   "metadata": {},
   "outputs": [
    {
     "name": "stdout",
     "output_type": "stream",
     "text": [
      "{'Morgan Freeman': 1937, 'Audrey Hepburn': 1929, 'Freddie Mercury': 1946, 'Ada Lovelace': 1815}\n"
     ]
    }
   ],
   "source": [
    "# We can do it manually:\n",
    "\n",
    "birthyears = {\"Morgan Freeman\":1937, \"Audrey Hepburn\":1929, \"Freddie Mercury\":1946, \"Ada Lovelace\":1815}\n",
    "print(birthyears)"
   ]
  },
  {
   "cell_type": "code",
   "execution_count": 14,
   "id": "70b6b76f",
   "metadata": {},
   "outputs": [
    {
     "name": "stdout",
     "output_type": "stream",
     "text": [
      "{'Morgan Freeman': 1937, 'Audrey Hepburn': 1929, 'Freddie Mercury': 1946, 'Ada Lovelace': 1815}\n"
     ]
    }
   ],
   "source": [
    "# We can use loops:\n",
    "names = [\"Morgan Freeman\", \"Audrey Hepburn\", \"Freddie Mercury\", \"Ada Lovelace\"]\n",
    "years = [1937, 1929, 1946, 1815]\n",
    "\n",
    "birthyears = {}\n",
    "\n",
    "i = 0 # this serves as an index\n",
    "for name in names:\n",
    "    birthyears[names[i]] = years[i]\n",
    "    i = i + 1\n",
    "    \n",
    "print(birthyears)    "
   ]
  },
  {
   "cell_type": "code",
   "execution_count": 13,
   "id": "20dcc6b3",
   "metadata": {},
   "outputs": [
    {
     "name": "stdout",
     "output_type": "stream",
     "text": [
      "{'Morgan Freeman': 1937, 'Audrey Hepburn': 1929, 'Freddie Mercury': 1946, 'Ada Lovelace': 1815}\n"
     ]
    }
   ],
   "source": [
    "# We can write the same loop as this:\n",
    "birthyears = {} # Create an empty dictionary\n",
    "\n",
    "for j, name in enumerate(names):\n",
    "    birthyears[names[j]] = years[j]\n",
    "\n",
    "print(birthyears)"
   ]
  },
  {
   "cell_type": "code",
   "execution_count": 15,
   "id": "97508ff3",
   "metadata": {},
   "outputs": [
    {
     "name": "stdout",
     "output_type": "stream",
     "text": [
      "{'Morgan Freeman': 1937, 'Audrey Hepburn': 1929, 'Freddie Mercury': 1946, 'Ada Lovelace': 1815}\n"
     ]
    }
   ],
   "source": [
    "# Or we can zip the two list\n",
    "birthyears = dict(zip(names,years))\n",
    "print(birthyears)\n"
   ]
  },
  {
   "cell_type": "markdown",
   "id": "7f717529",
   "metadata": {},
   "source": [
    "### Ex 4.2 Add a new item your dictionary: Bob Saget with the value 1956"
   ]
  },
  {
   "cell_type": "code",
   "execution_count": 16,
   "id": "341c75f7",
   "metadata": {},
   "outputs": [
    {
     "name": "stdout",
     "output_type": "stream",
     "text": [
      "{'Morgan Freeman': 1937, 'Audrey Hepburn': 1929, 'Freddie Mercury': 1946, 'Ada Lovelace': 1815, 'Bob Saget': 1956}\n"
     ]
    }
   ],
   "source": [
    "birthyears['Bob Saget'] = 1956\n",
    "print(birthyears)"
   ]
  },
  {
   "cell_type": "markdown",
   "id": "7aa3b8f0",
   "metadata": {},
   "source": [
    "### Ex 4.3 Loop over all the dictionary items and create a new dictionary called `random_id` containing a uniform random ids for each one of them between 0 and 1000. To avoid the decimals you can convert random ids to integers."
   ]
  },
  {
   "cell_type": "code",
   "execution_count": 22,
   "id": "d7f7889c",
   "metadata": {},
   "outputs": [
    {
     "name": "stdout",
     "output_type": "stream",
     "text": [
      "dict_keys(['Morgan Freeman', 'Audrey Hepburn', 'Freddie Mercury', 'Ada Lovelace', 'Bob Saget'])\n"
     ]
    }
   ],
   "source": [
    "# to get the keys of the dictionary\n",
    "print(birthyears.keys())"
   ]
  },
  {
   "cell_type": "code",
   "execution_count": 23,
   "id": "7237a183",
   "metadata": {},
   "outputs": [
    {
     "name": "stdout",
     "output_type": "stream",
     "text": [
      "{'Morgan Freeman': 60, 'Audrey Hepburn': 868, 'Freddie Mercury': 351, 'Ada Lovelace': 297, 'Bob Saget': 691}\n"
     ]
    }
   ],
   "source": [
    "import random\n",
    "\n",
    "random_id = {}\n",
    "for k in birthyears.keys():\n",
    "    random_id[k] = int(random.uniform(0,1000))\n",
    "    \n",
    "print(random_id)"
   ]
  },
  {
   "cell_type": "code",
   "execution_count": null,
   "id": "5827f3fd",
   "metadata": {},
   "outputs": [],
   "source": []
  }
 ],
 "metadata": {
  "kernelspec": {
   "display_name": "Python 3 (ipykernel)",
   "language": "python",
   "name": "python3"
  },
  "language_info": {
   "codemirror_mode": {
    "name": "ipython",
    "version": 3
   },
   "file_extension": ".py",
   "mimetype": "text/x-python",
   "name": "python",
   "nbconvert_exporter": "python",
   "pygments_lexer": "ipython3",
   "version": "3.10.4"
  }
 },
 "nbformat": 4,
 "nbformat_minor": 5
}
