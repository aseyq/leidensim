{
 "cells": [
  {
   "cell_type": "markdown",
   "id": "7def5854",
   "metadata": {},
   "source": [
    "# Excercise Set 3\n",
    "## Lists\n"
   ]
  },
  {
   "cell_type": "markdown",
   "id": "56c63d13",
   "metadata": {},
   "source": [
    "Below there are two lists related to the people who were  born in June. One containing the names of the people, and their birthyears."
   ]
  },
  {
   "cell_type": "code",
   "execution_count": 34,
   "id": "3ae89f07",
   "metadata": {},
   "outputs": [],
   "source": [
    "names = [\"Morgan Freeman\", \"Audrey Hepburn\", \"Freddie Mercury\", \"Ada Lovelace\"]\n",
    "years = [1937, 1929, 1946, 1815]"
   ]
  },
  {
   "cell_type": "markdown",
   "id": "d1ed3959",
   "metadata": {},
   "source": [
    "### Ex 3.1 Find the index of Freddie Mercury and gather the year in which he was born."
   ]
  },
  {
   "cell_type": "code",
   "execution_count": 35,
   "id": "28a9443e",
   "metadata": {},
   "outputs": [
    {
     "name": "stdout",
     "output_type": "stream",
     "text": [
      "Index of Mr. Mercury: 2\n",
      "1946\n"
     ]
    }
   ],
   "source": [
    "# two ways: first, manually\n",
    "names[2]\n",
    "years[2]\n",
    "\n",
    "# we can also use the `.index()` method\n",
    "\n",
    "fm_index = names.index(\"Freddie Mercury\")\n",
    "print(\"Index of Mr. Mercury:\", fm_index)\n",
    "\n",
    "print(years[fm_index])"
   ]
  },
  {
   "cell_type": "markdown",
   "id": "9a1fe4cd",
   "metadata": {},
   "source": [
    "### Ex 3.2 Subset Morgan Freeman and Audrey Hepburn and assign it to a variable called `actors`. Also subset their birth years."
   ]
  },
  {
   "cell_type": "code",
   "execution_count": 36,
   "id": "9ed30fee",
   "metadata": {},
   "outputs": [
    {
     "name": "stdout",
     "output_type": "stream",
     "text": [
      "['Morgan Freeman', 'Audrey Hepburn']\n"
     ]
    }
   ],
   "source": [
    "actors = names[0:2]\n",
    "actor_years = years[0:2]\n",
    "print(actors)"
   ]
  },
  {
   "cell_type": "markdown",
   "id": "5f230aaf",
   "metadata": {},
   "source": [
    "### Ex 3.3 Remove Freddie Mercury out of the `names` list"
   ]
  },
  {
   "cell_type": "code",
   "execution_count": 37,
   "id": "4e8482a0",
   "metadata": {},
   "outputs": [
    {
     "name": "stdout",
     "output_type": "stream",
     "text": [
      "['Morgan Freeman', 'Audrey Hepburn', 'Ada Lovelace']\n"
     ]
    }
   ],
   "source": [
    "names.pop(2)\n",
    "print(names)"
   ]
  },
  {
   "cell_type": "markdown",
   "id": "fe5f8666",
   "metadata": {},
   "source": [
    "### Ex 3.4 Remove Morgan Freeman but this time try to assign the function to a variable. See what happens to the list and to the variable."
   ]
  },
  {
   "cell_type": "code",
   "execution_count": 38,
   "id": "7c9302cc",
   "metadata": {},
   "outputs": [
    {
     "name": "stdout",
     "output_type": "stream",
     "text": [
      "Morgan Freeman\n",
      "['Audrey Hepburn', 'Ada Lovelace']\n"
     ]
    }
   ],
   "source": [
    "new_var = names.pop(0)\n",
    "print(new_var)\n",
    "print(names)\n",
    "\n",
    "# notice that new var containes the popped item \"Morgan Freeman\""
   ]
  },
  {
   "cell_type": "markdown",
   "id": "8cf7812b",
   "metadata": {},
   "source": [
    "### Ex 3.5 Add the new list of actors below to the actors list you've created"
   ]
  },
  {
   "cell_type": "code",
   "execution_count": 39,
   "id": "f9237f1a",
   "metadata": {},
   "outputs": [
    {
     "name": "stdout",
     "output_type": "stream",
     "text": [
      "['Morgan Freeman', 'Audrey Hepburn', 'Matthew Mcconaughey', 'Marion Cotillard']\n",
      "[1937, 1929, 1969, 1975]\n"
     ]
    }
   ],
   "source": [
    "actors2=[\"Matthew Mcconaughey\", \"Marion Cotillard\"]\n",
    "years2 = [1969, 1975]\n",
    "\n",
    "new_actors = actors + actors2\n",
    "new_years = actor_years + years2\n",
    "print(new_actors)\n",
    "print(new_years)"
   ]
  },
  {
   "cell_type": "markdown",
   "id": "44840e52",
   "metadata": {},
   "source": [
    "### Ex 3.6 Loop over the values of your new actors list. Print out current ages of actors."
   ]
  },
  {
   "cell_type": "code",
   "execution_count": 43,
   "id": "03fbac9d",
   "metadata": {},
   "outputs": [
    {
     "name": "stdout",
     "output_type": "stream",
     "text": [
      "Morgan Freeman 85\n",
      "Audrey Hepburn 93\n",
      "Matthew Mcconaughey 53\n",
      "Marion Cotillard 47\n",
      "Morgan Freeman 85\n",
      "Audrey Hepburn 93\n",
      "Matthew Mcconaughey 53\n",
      "Marion Cotillard 47\n"
     ]
    }
   ],
   "source": [
    "# We have two options: loop the number of items\n",
    "for i in range(len(new_actors)):\n",
    "    current_age = 2022 - new_years[i]\n",
    "    print(new_actors[i], current_age)\n",
    "    \n",
    "\n",
    "# Or we can loop over the items and get the index for the age:\n",
    "for actor in new_actors:\n",
    "    \n",
    "    current_index = new_actors.index(actor)\n",
    "    \n",
    "    current_age = 2022 - new_years[current_index]\n",
    "    print(actor, current_age)"
   ]
  },
  {
   "cell_type": "markdown",
   "id": "42bb19d9",
   "metadata": {},
   "source": [
    "### Ex 3.6 Loop over the values of your actors list. Print out current ages of actors if they are over 60."
   ]
  },
  {
   "cell_type": "code",
   "execution_count": 42,
   "id": "7386b703",
   "metadata": {},
   "outputs": [
    {
     "name": "stdout",
     "output_type": "stream",
     "text": [
      "Morgan Freeman 85\n",
      "Audrey Hepburn 93\n"
     ]
    }
   ],
   "source": [
    "# We have two options: loop the number of items\n",
    "for i in range(len(new_actors)):\n",
    "    current_age = 2022 - new_years[i]\n",
    "    \n",
    "    if current_age > 60:\n",
    "        print(new_actors[i], current_age)"
   ]
  },
  {
   "cell_type": "code",
   "execution_count": null,
   "id": "8cdfa60b",
   "metadata": {},
   "outputs": [],
   "source": []
  }
 ],
 "metadata": {
  "kernelspec": {
   "display_name": "Python 3 (ipykernel)",
   "language": "python",
   "name": "python3"
  },
  "language_info": {
   "codemirror_mode": {
    "name": "ipython",
    "version": 3
   },
   "file_extension": ".py",
   "mimetype": "text/x-python",
   "name": "python",
   "nbconvert_exporter": "python",
   "pygments_lexer": "ipython3",
   "version": "3.10.4"
  }
 },
 "nbformat": 4,
 "nbformat_minor": 5
}
