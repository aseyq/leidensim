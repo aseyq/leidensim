{
  "nbformat": 4,
  "nbformat_minor": 0,
  "metadata": {
    "colab": {
      "name": "classes1.ipynb",
      "provenance": [],
      "collapsed_sections": []
    },
    "kernelspec": {
      "name": "python3",
      "display_name": "Python 3"
    }
  },
  "cells": [
    {
      "cell_type": "markdown",
      "metadata": {
        "id": "0AHtaLOnlPsR"
      },
      "source": [
        "## Just a warm-up before we go\n"
      ]
    },
    {
      "cell_type": "code",
      "metadata": {
        "id": "Kba3I1-RlNAa"
      },
      "source": [
        "class Employee:\n",
        "  def say_hi(self):\n",
        "    print(\"Hello everyone!\")\n",
        "\n",
        "emp1 = Employee()\n",
        "emp2 = Employee()"
      ],
      "execution_count": null,
      "outputs": []
    },
    {
      "cell_type": "code",
      "metadata": {
        "id": "byoBnCTYs1Of",
        "colab": {
          "base_uri": "https://localhost:8080/"
        },
        "outputId": "09c9f7a2-fadb-4a3f-9dad-9d70fc882ca1"
      },
      "source": [
        "emp2.say_hi()"
      ],
      "execution_count": null,
      "outputs": [
        {
          "output_type": "stream",
          "text": [
            "Hello everyone!\n"
          ],
          "name": "stdout"
        }
      ]
    },
    {
      "cell_type": "code",
      "metadata": {
        "id": "OcFOfgqGmTKI"
      },
      "source": [
        "emp2.say_hi()\n",
        "emp1.say_hi()"
      ],
      "execution_count": null,
      "outputs": []
    },
    {
      "cell_type": "markdown",
      "metadata": {
        "id": "-yIo-BbH3oOE"
      },
      "source": [
        "## Creating Player Classes\n",
        "<img src=\"https://upload.wikimedia.org/wikipedia/commons/d/d9/Opening_chess_position_from_black_side.jpg\" height=200px> \n",
        "<img src=\"https://cdn.shopify.com/s/files/1/1951/3293/products/080119990287.PT08_1024x1024.jpg?v=1527370913\" height=200px> </br>\n",
        "\n",
        "We will generate two hypothetical players. One will be a person playing Chess, the other will be a player playing Backgammon.\n",
        "\n",
        "\n",
        "What they will have in common: \n",
        "\n",
        "*   They both will have a name (attribute)\n",
        "    * I want to generate it from random pick out of 5 letters (eg. `jrio`)\n",
        "*   They both will have a `partner` (attribute)\n",
        "*   They both will have `points` from the previous games they played (attribute)\n",
        "*   They can both `resign` (method) or `win` (method)\n",
        "    * If you win, you get 1 points\n",
        "    * Let's have an uncommon rule: If you resigns, your opponent wins but you also lose 1 points\n",
        "\n",
        "\n",
        "What they will have differently:\n",
        "\n",
        "*   The chess player's `status` will be defined as `normal` or `in_check`\n",
        "*   The backgammon player will have the `dice` outcome will have the option to `roll_die`\n",
        "\n",
        "<img src=\"https://www.saral.it/img/BasePlayer.png\"> </br>\n",
        "\n",
        "\n",
        "\n",
        "Lets first create `BasePlayer` "
      ]
    },
    {
      "cell_type": "code",
      "metadata": {
        "colab": {
          "base_uri": "https://localhost:8080/",
          "height": 35
        },
        "id": "MBf8yBRvOS2A",
        "outputId": "2fc00f2f-cd2d-410b-c1a6-9f1f28996804"
      },
      "source": [
        "import random\n",
        "letters = \"abcdefghijklmnoprstuvwxyz\"\n",
        "''.join(random.choices(letters, k=4))\n",
        "\n"
      ],
      "execution_count": null,
      "outputs": [
        {
          "output_type": "execute_result",
          "data": {
            "application/vnd.google.colaboratory.intrinsic+json": {
              "type": "string"
            },
            "text/plain": [
              "'upks'"
            ]
          },
          "metadata": {
            "tags": []
          },
          "execution_count": 12
        }
      ]
    },
    {
      "cell_type": "code",
      "metadata": {
        "id": "ZMNktWac3i9s"
      },
      "source": [
        "import random\n",
        "letters = \"abcdefghijklmnoprstuvwxyz\"\n",
        "\n",
        "class BasePlayer:\n",
        "    def __init__(self):\n",
        "        randomletters = random.choices(letters, k=5)\n",
        "        self.name = ''.join(randomletters)\n",
        "        self.points = 0\n",
        "        self.partner = None\n",
        "\n",
        "    def win(self):\n",
        "        print(\"I am \" + self.name +\" and I won!\" )\n",
        "        self.points += 1\n",
        "\n",
        "    def resign(self):\n",
        "        print(\"Oh snap. I am \" + self.name + \" and ok I lose.\")\n",
        "        self.points -= 1\n",
        "\n",
        "\n"
      ],
      "execution_count": null,
      "outputs": []
    },
    {
      "cell_type": "markdown",
      "metadata": {
        "id": "fi1JlRlBB9S3"
      },
      "source": [
        "Let's create two players with objects `player1` and `player2`. After we create them, let's print out their names and points."
      ]
    },
    {
      "cell_type": "code",
      "metadata": {
        "id": "lJkeEr_iwMOD",
        "colab": {
          "base_uri": "https://localhost:8080/"
        },
        "outputId": "55736963-53a0-4a88-8232-95acc62b0659"
      },
      "source": [
        "player1 = BasePlayer()\n",
        "player2 = BasePlayer()\n",
        "\n",
        "print(player1.name, player1.points)\n",
        "print(player2.name, player2.points)\n",
        "player1.win()\n",
        "player2.resign()\n"
      ],
      "execution_count": null,
      "outputs": [
        {
          "output_type": "stream",
          "text": [
            "vjjlr 0\n",
            "xxcia 0\n",
            "I am vjjlr and I won!\n",
            "Oh snap. I am xxcia and ok I lose.\n"
          ],
          "name": "stdout"
        }
      ]
    },
    {
      "cell_type": "code",
      "metadata": {
        "colab": {
          "base_uri": "https://localhost:8080/"
        },
        "id": "2DmOeBNVQrCG",
        "outputId": "3b00c368-d192-4609-c28d-1563deadb03e"
      },
      "source": [
        ""
      ],
      "execution_count": null,
      "outputs": [
        {
          "output_type": "stream",
          "text": [
            "I won!\n"
          ],
          "name": "stdout"
        },
        {
          "output_type": "execute_result",
          "data": {
            "text/plain": [
              "4"
            ]
          },
          "metadata": {
            "tags": []
          },
          "execution_count": 35
        }
      ]
    },
    {
      "cell_type": "markdown",
      "metadata": {
        "id": "mI8qQCjFYqZd"
      },
      "source": [
        "Let's make `player1` resign and `player2` win.\n"
      ]
    },
    {
      "cell_type": "code",
      "metadata": {
        "id": "ouxHLFb2waPq"
      },
      "source": [
        "player1....\n",
        "player2...."
      ],
      "execution_count": null,
      "outputs": []
    },
    {
      "cell_type": "code",
      "metadata": {
        "id": "CFSredpywhI4",
        "colab": {
          "base_uri": "https://localhost:8080/"
        },
        "outputId": "6fd51e9c-c4ac-45ab-a312-9c35a9e43bc0"
      },
      "source": [
        "print(player1.points, player2.points)"
      ],
      "execution_count": null,
      "outputs": [
        {
          "output_type": "stream",
          "text": [
            "1 -1\n"
          ],
          "name": "stdout"
        }
      ]
    },
    {
      "cell_type": "markdown",
      "metadata": {
        "id": "KNBHdNoIYmDU"
      },
      "source": [
        "Too much manual work. Why don't we make the matching explicit and winning after the resign automatic."
      ]
    },
    {
      "cell_type": "code",
      "metadata": {
        "id": "D9WgZekWxwp-"
      },
      "source": [
        "import random\n",
        "letters = \"abcdefghijklmnoprstuvwxyz\"\n",
        "\n",
        "class BasePlayer:\n",
        "    def __init__(self):\n",
        "        randomletters = random.choices(letters, k=5)\n",
        "        self.name = ''.join(randomletters)\n",
        "        self.points = 0\n",
        "        self.partner = None\n",
        "\n",
        "    def win(self):\n",
        "        print(\"I am \" + self.name +\" and I won!\" )\n",
        "        self.points += 1\n",
        "\n",
        "    def resign(self):\n",
        "        print(\"Oh snap. I am \" + self.name + \" and ok I lose.\")\n",
        "        self.points -= 1\n",
        "        self.partner.win()\n",
        "\n",
        "    def set_partner(self, partner):\n",
        "        self.partner = partner\n",
        "        partner.partner = self\n",
        "\n",
        "player1 = BasePlayer()\n",
        "player2 = BasePlayer()\n",
        "\n",
        "\n"
      ],
      "execution_count": null,
      "outputs": []
    },
    {
      "cell_type": "markdown",
      "metadata": {
        "id": "mggTfpHbCRV_"
      },
      "source": [
        "Let's create two players again with same names.\n"
      ]
    },
    {
      "cell_type": "code",
      "metadata": {
        "id": "1M7az6y7x_cZ",
        "colab": {
          "base_uri": "https://localhost:8080/"
        },
        "outputId": "2012876b-7d79-4da3-f843-961175baad72"
      },
      "source": [
        "print(player1.name)\n",
        "print(player2.name)\n",
        "player1.set_partner(player2)"
      ],
      "execution_count": null,
      "outputs": [
        {
          "output_type": "stream",
          "text": [
            "chazt\n",
            "nhpih\n"
          ],
          "name": "stdout"
        }
      ]
    },
    {
      "cell_type": "code",
      "metadata": {
        "colab": {
          "base_uri": "https://localhost:8080/"
        },
        "id": "FJYANfcdTmHU",
        "outputId": "a59e8873-fa15-470d-b8d5-861ebda252d0"
      },
      "source": [
        "player2.partner.name\n",
        "print(player1.name, player1.points)\n",
        "print(player2.name, player2.points)\n",
        "player2.resign()\n",
        "print(player1.name, player1.points)\n",
        "print(player2.name, player2.points)"
      ],
      "execution_count": null,
      "outputs": [
        {
          "output_type": "stream",
          "text": [
            "chazt 0\n",
            "nhpih 0\n",
            "Oh snap. I am nhpih and ok I lose.\n",
            "I am chazt and I won!\n",
            "chazt 1\n",
            "nhpih -1\n"
          ],
          "name": "stdout"
        }
      ]
    },
    {
      "cell_type": "markdown",
      "metadata": {
        "id": "Ug5YBXTmCbdX"
      },
      "source": [
        "Let's match them together\n"
      ]
    },
    {
      "cell_type": "code",
      "metadata": {
        "id": "mMIMZlNByR0P"
      },
      "source": [
        ""
      ],
      "execution_count": null,
      "outputs": []
    },
    {
      "cell_type": "code",
      "metadata": {
        "id": "ghQ6nuo_ysMH"
      },
      "source": [
        ""
      ],
      "execution_count": null,
      "outputs": []
    },
    {
      "cell_type": "markdown",
      "metadata": {
        "id": "D1pR5bOHZR5u"
      },
      "source": [
        "Let's make `player1` resign again and check the points."
      ]
    },
    {
      "cell_type": "code",
      "metadata": {
        "id": "2S1swsuayteI"
      },
      "source": [
        ""
      ],
      "execution_count": null,
      "outputs": []
    },
    {
      "cell_type": "code",
      "metadata": {
        "id": "zUybLOACy1LC"
      },
      "source": [
        ""
      ],
      "execution_count": null,
      "outputs": []
    },
    {
      "cell_type": "code",
      "metadata": {
        "id": "hgS3rOE_0INy"
      },
      "source": [
        "player1.parter"
      ],
      "execution_count": null,
      "outputs": []
    },
    {
      "cell_type": "markdown",
      "metadata": {
        "id": "fai9pXriXHUh"
      },
      "source": [
        "[Next Notebook](https://colab.research.google.com/drive/1zeTTHhRbxvza8ye_W3txEGC87UvnsA5u)\n"
      ]
    }
  ]
}