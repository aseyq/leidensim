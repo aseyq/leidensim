{
 "cells": [
  {
   "cell_type": "markdown",
   "id": "6988e8aa",
   "metadata": {},
   "source": [
    "# Exercise Set 1\n",
    "\n",
    "## Jupyter Notebook\n",
    "\n",
    "You are seeing the interface of Jupyter notebook. Each notebook a number of cells. Cells can be either contain text (Markdown format) or code. This is obviously a text cell. Below you will see a code cell. You can tell a code cell from the `In [ ]:` tag at the beginning. \n",
    "\n",
    "- You can double click a cell to start editing. (You can also press `Enter` after the cell is selected. Note the blue vertical line.)\n",
    "\n",
    "- Once you are int the edit mode, you will see the vertical line turns green. You can press `Esc` to stop editing a cell. \n",
    "\n",
    "- If you press `Ctrl + Enter` on a cell, (whether in edit mode or not) the code will be executed. This means, if it is a text cell, Jupyter will show it stylized according to Markdown syntax. If it is a code cell, it will run the python code in it.\n",
    "\n",
    "\n",
    "### Ex 1. Double click this cell and see how the markdown format looks like.\n",
    "\n",
    "### Ex 2. Double click the cell below. Change the variable `my_name` to your name. Then press `Ctrl + Enter`."
   ]
  },
  {
   "cell_type": "code",
   "execution_count": null,
   "id": "732760fe",
   "metadata": {},
   "outputs": [],
   "source": [
    "my_name = \"Ali\"\n",
    "print(\"My name is \", my_name)"
   ]
  },
  {
   "cell_type": "markdown",
   "id": "e23d1e5e",
   "metadata": {},
   "source": [
    "### Ex 3. Below there is a misformated cell. It is supposed to be a text cell but instead it is a code cell. First try to execute it and see what happens. Then, go to the `Cell` menu above and see how you can change the type. Note also the keyboard shortcuts because you might need to change the type of a cell time to time."
   ]
  },
  {
   "cell_type": "markdown",
   "id": "803cbd04",
   "metadata": {},
   "source": [
    "This cell was supposed to be a text (Markdown) cell"
   ]
  },
  {
   "cell_type": "markdown",
   "id": "58733fa4",
   "metadata": {},
   "source": [
    "One way to navigate a notebook is to use the arrow keys. Then there is a useful shortcut `Shift+Enter`. Just like `Ctrl+Enter` it executes the cell but proceeds to the next one. So you can execute several cells serially. \n",
    "\n",
    "### Ex 4. Try to execute the two cells below by pressing `Shift + Enter` twice."
   ]
  },
  {
   "cell_type": "code",
   "execution_count": 10,
   "id": "5612b0bd",
   "metadata": {},
   "outputs": [],
   "source": [
    "average_age = [1, 2, 3, 4, 5, 6]\n",
    "average_height = [74.1,  85.5, 94, 100.3, 107.0, 115.5]"
   ]
  },
  {
   "cell_type": "code",
   "execution_count": 16,
   "id": "b834ea18",
   "metadata": {},
   "outputs": [
    {
     "data": {
      "text/plain": [
       "Text(0, 0.5, 'Height (in cm)')"
      ]
     },
     "execution_count": 16,
     "metadata": {},
     "output_type": "execute_result"
    },
    {
     "data": {
      "image/png": "[encoded data removed]",
      "text/plain": [
       "<Figure size 432x288 with 1 Axes>"
      ]
     },
     "metadata": {
      "needs_background": "light"
     },
     "output_type": "display_data"
    }
   ],
   "source": [
    "import matplotlib.pyplot as plt\n",
    "plt.plot(average_age, average_height)\n",
    "plt.xlabel(\"Age\")\n",
    "plt.ylabel(\"Height (in cm)\")"
   ]
  },
  {
   "cell_type": "markdown",
   "id": "8eb028da",
   "metadata": {},
   "source": [
    "If you ran the previous plots properly, you might have noticed two things:\n",
    "    \n",
    "1. Jupyter notebook is able to plot the graphs inside the notebook.\n",
    "\n",
    "2. The variables created in one cell, can be used in another cell.\n",
    "\n"
   ]
  },
  {
   "cell_type": "code",
   "execution_count": null,
   "id": "77f784f9",
   "metadata": {},
   "outputs": [],
   "source": []
  },
  {
   "cell_type": "markdown",
   "id": "229f046c",
   "metadata": {},
   "source": [
    "### Ex 5. Using the `Insert` menu, or by pressing `b`, create a new cell. Turn it to a text (Markdown)cell."
   ]
  },
  {
   "cell_type": "markdown",
   "id": "fb2ac3f4",
   "metadata": {},
   "source": [
    "### Ex 6. Using the `Edit` menu, or by pressing `d` twice, delete the cell."
   ]
  },
  {
   "cell_type": "code",
   "execution_count": null,
   "id": "b4171dce",
   "metadata": {},
   "outputs": [],
   "source": []
  }
 ],
 "metadata": {
  "kernelspec": {
   "display_name": "Python 3 (ipykernel)",
   "language": "python",
   "name": "python3"
  },
  "language_info": {
   "codemirror_mode": {
    "name": "ipython",
    "version": 3
   },
   "file_extension": ".py",
   "mimetype": "text/x-python",
   "name": "python",
   "nbconvert_exporter": "python",
   "pygments_lexer": "ipython3",
   "version": "3.10.4"
  }
 },
 "nbformat": 4,
 "nbformat_minor": 5
}
