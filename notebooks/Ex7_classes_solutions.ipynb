{
 "cells": [
  {
   "cell_type": "markdown",
   "metadata": {
    "id": "0AHtaLOnlPsR"
   },
   "source": [
    "## Just a warm-up before we go\n"
   ]
  },
  {
   "cell_type": "code",
   "execution_count": 1,
   "metadata": {
    "id": "Kba3I1-RlNAa"
   },
   "outputs": [],
   "source": [
    "class Employee:\n",
    "  def say_hi(self):\n",
    "    print(\"Hello everyone!\")\n",
    "\n",
    "emp1 = Employee()\n",
    "emp2 = Employee()"
   ]
  },
  {
   "cell_type": "code",
   "execution_count": 2,
   "metadata": {
    "colab": {
     "base_uri": "https://localhost:8080/"
    },
    "id": "byoBnCTYs1Of",
    "outputId": "09c9f7a2-fadb-4a3f-9dad-9d70fc882ca1"
   },
   "outputs": [
    {
     "name": "stdout",
     "output_type": "stream",
     "text": [
      "Hello everyone!\n"
     ]
    }
   ],
   "source": [
    "emp2.say_hi()"
   ]
  },
  {
   "cell_type": "code",
   "execution_count": 3,
   "metadata": {
    "id": "OcFOfgqGmTKI"
   },
   "outputs": [
    {
     "name": "stdout",
     "output_type": "stream",
     "text": [
      "Hello everyone!\n",
      "Hello everyone!\n"
     ]
    }
   ],
   "source": [
    "emp2.say_hi()\n",
    "emp1.say_hi()"
   ]
  },
  {
   "cell_type": "markdown",
   "metadata": {
    "id": "-yIo-BbH3oOE"
   },
   "source": [
    "## Creating Player Classes\n",
    "<img src=\"https://upload.wikimedia.org/wikipedia/commons/d/d9/Opening_chess_position_from_black_side.jpg\" height=200px> \n",
    "<img src=\"https://cdn.shopify.com/s/files/1/1951/3293/products/080119990287.PT08_1024x1024.jpg?v=1527370913\" height=200px> </br>\n",
    "\n",
    "We will generate two hypothetical players. One will be a person playing Chess, the other will be a player playing Backgammon.\n",
    "\n",
    "\n",
    "What they will have in common: \n",
    "\n",
    "*   They both will have a name (attribute)\n",
    "    * I want to generate it from random pick out of 5 letters (eg. `jrio`)\n",
    "*   They both will have a `partner` (attribute)\n",
    "*   They both will have `points` from the previous games they played (attribute)\n",
    "*   They can both `resign` (method) or `win` (method)\n",
    "    * If you win, you get 1 points\n",
    "    * Let's have an uncommon rule: If you resign, your opponent wins but you also lose 1 points\n",
    "\n",
    "\n",
    "What they will have differently:\n",
    "\n",
    "*   The chess player's `status` will be defined as `\"normal\"` or `\"in_check\"`\n",
    "*   The backgammon player will have the `dice` outcome will have the option to `roll_die`\n",
    "\n",
    "<img src=\"https://www.saral.it/img/BasePlayer.png\"> </br>\n",
    "\n",
    "\n",
    "\n",
    "Lets create the `BasePlayer`. But before, lets work on our random name."
   ]
  },
  {
   "cell_type": "markdown",
   "metadata": {},
   "source": [
    "### 7.1 Create a random sequence of letters by using the letters below."
   ]
  },
  {
   "cell_type": "code",
   "execution_count": 4,
   "metadata": {},
   "outputs": [],
   "source": [
    "import random"
   ]
  },
  {
   "cell_type": "code",
   "execution_count": 32,
   "metadata": {},
   "outputs": [
    {
     "data": {
      "text/plain": [
       "[7, 5]"
      ]
     },
     "execution_count": 32,
     "metadata": {},
     "output_type": "execute_result"
    }
   ],
   "source": [
    "random.choices([2,5,7,3],k=2)"
   ]
  },
  {
   "cell_type": "code",
   "execution_count": 40,
   "metadata": {
    "colab": {
     "base_uri": "https://localhost:8080/",
     "height": 35
    },
    "id": "MBf8yBRvOS2A",
    "outputId": "2fc00f2f-cd2d-410b-c1a6-9f1f28996804"
   },
   "outputs": [
    {
     "data": {
      "text/plain": [
       "'pupvj'"
      ]
     },
     "execution_count": 40,
     "metadata": {},
     "output_type": "execute_result"
    }
   ],
   "source": [
    "letters = \"abcdefghijklmnoprstuvwxyz\"\n",
    "\n",
    "randomlet = random.choices(letters, k=5)\n",
    "''.join(randomlet)\n"
   ]
  },
  {
   "cell_type": "markdown",
   "metadata": {},
   "source": [
    "You can do the exercises 7.1-7.6 in the same cell, updating your code gradually.\n",
    "### 7.2 Lets create the class `BasePlayer`. First we need to create the `__init__` method. This will be automatically run when we create an instance from a class.\n",
    "\n",
    "### 7.3 Add also the attributes `points` and `partner` to the class. Points should start from 0, and for partner we don't have a value yet. You can write `None` (without quotation marks) to indicate that there is no value. This is a built-in type for these kind of purposes.\n",
    "\n",
    "### 7.4 Create the method `win`. When an agent wins, their points will be increased by one. They should also say something like \"I am XXX and I won\"\n",
    "\n",
    "### 7.5 Create the method `resign`. If you resign, you lose 1 points, and you say \"I am XXX and I resign\"\n",
    "\n",
    "### 7.6 Now create a method called `set_partner`. This method links an instance (player) to another (player).  This will be a method which will take a parameter \"partner\". \n"
   ]
  },
  {
   "cell_type": "code",
   "execution_count": 147,
   "metadata": {},
   "outputs": [],
   "source": [
    "class BasePlayer:\n",
    "    def __init__(self):\n",
    "        self.points = 0\n",
    "        self.partner = None        \n",
    "        self.name = self.get_name()\n",
    "        \n",
    "    def get_name(self):\n",
    "        random_letters = random.choices(letters, k=5)\n",
    "        name = ''.join(random_letters)\n",
    "        return name\n",
    "    \n",
    "    def win(self):\n",
    "        # self.points = self.points + 1 \n",
    "        self.points += 1\n",
    "        print(\"I am \" + self.name + \", and I won\")\n",
    "        \n",
    "    def resign(self):\n",
    "        self.points += -1\n",
    "        print(\"I am \" + self.name + \", and I resign\")\n",
    "        \n",
    "        self.partner.win()\n",
    "        \n",
    "    def set_partner(self, p):\n",
    "        self.partner = p\n",
    "        p.partner = self\n",
    "        \n",
    "        \n",
    "# generate the instances        \n",
    "bp1 = BasePlayer()\n",
    "bp2 = BasePlayer()\n",
    "\n",
    "bp1.set_partner(bp2)"
   ]
  },
  {
   "cell_type": "code",
   "execution_count": 150,
   "metadata": {},
   "outputs": [
    {
     "data": {
      "text/plain": [
       "1"
      ]
     },
     "execution_count": 150,
     "metadata": {},
     "output_type": "execute_result"
    }
   ],
   "source": [
    "\n",
    "bp2.points"
   ]
  },
  {
   "cell_type": "markdown",
   "metadata": {},
   "source": [
    "### 7.7 Create two players `player1` and `player2`. Make them partners. \n",
    "\n",
    "### 7.8 Make one of them resign, and as a consequence the other one win."
   ]
  },
  {
   "cell_type": "code",
   "execution_count": null,
   "metadata": {},
   "outputs": [],
   "source": []
  },
  {
   "cell_type": "markdown",
   "metadata": {},
   "source": [
    "### 7.9 Now create the `ChessPlayer`, inheriting from the base player. Add the `status` attribute to the chess player."
   ]
  },
  {
   "cell_type": "code",
   "execution_count": 166,
   "metadata": {},
   "outputs": [],
   "source": [
    "class ChessPlayer(BasePlayer):\n",
    "    pass\n",
    "\n",
    "cp1 = ChessPlayer()\n"
   ]
  },
  {
   "cell_type": "code",
   "execution_count": 164,
   "metadata": {},
   "outputs": [
    {
     "data": {
      "text/plain": [
       "'normal'"
      ]
     },
     "execution_count": 164,
     "metadata": {},
     "output_type": "execute_result"
    }
   ],
   "source": [
    "cp1.status"
   ]
  },
  {
   "cell_type": "code",
   "execution_count": 167,
   "metadata": {},
   "outputs": [
    {
     "data": {
      "text/plain": [
       "0"
      ]
     },
     "execution_count": 167,
     "metadata": {},
     "output_type": "execute_result"
    }
   ],
   "source": [
    "cp1.points"
   ]
  },
  {
   "cell_type": "code",
   "execution_count": 156,
   "metadata": {},
   "outputs": [
    {
     "data": {
      "text/plain": [
       "0"
      ]
     },
     "execution_count": 156,
     "metadata": {},
     "output_type": "execute_result"
    }
   ],
   "source": [
    "cp1.points"
   ]
  },
  {
   "cell_type": "markdown",
   "metadata": {},
   "source": [
    "### 7.10 Create the `BackgammonPlayer`, inheriting from the `BasePlayer`. Add the `dice` attribute roll dice `method` it."
   ]
  },
  {
   "cell_type": "code",
   "execution_count": null,
   "metadata": {},
   "outputs": [],
   "source": []
  }
 ],
 "metadata": {
  "colab": {
   "collapsed_sections": [],
   "name": "classes1.ipynb",
   "provenance": []
  },
  "kernelspec": {
   "display_name": "Python 3 (ipykernel)",
   "language": "python",
   "name": "python3"
  },
  "language_info": {
   "codemirror_mode": {
    "name": "ipython",
    "version": 3
   },
   "file_extension": ".py",
   "mimetype": "text/x-python",
   "name": "python",
   "nbconvert_exporter": "python",
   "pygments_lexer": "ipython3",
   "version": "3.10.4"
  }
 },
 "nbformat": 4,
 "nbformat_minor": 1
}
