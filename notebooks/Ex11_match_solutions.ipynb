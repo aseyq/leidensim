{
 "cells": [
  {
   "cell_type": "markdown",
   "id": "d334af63",
   "metadata": {},
   "source": [
    "### Copy paste your game and models from the previous exercise"
   ]
  },
  {
   "cell_type": "code",
   "execution_count": 7,
   "id": "43670a40",
   "metadata": {},
   "outputs": [],
   "source": [
    "PDGAME = {('C','C'): (2, 2), ('C', 'D'): (0, 3), ('D', 'C'): (3, 0), ('D','D'): (1, 1)}\n",
    "\n",
    "import random \n",
    "import string\n",
    "\n",
    "class Agent:\n",
    "    def __init__(self, name=None, opponent=None):\n",
    "        \n",
    "        if name:\n",
    "            self.name = name            \n",
    "        else:\n",
    "            self.name = ''.join(random.choices(string.ascii_lowercase, k=5))\n",
    "        \n",
    "        self.payoff = 0\n",
    "        \n",
    "        self.opponent = opponent\n",
    "        \n",
    "    def earn(self, points):\n",
    "        self.payoff += points\n",
    "        \n",
    "    def __repr__(self):\n",
    "        return f\"(N: {self.name} T: {self.typ} P: {self.payoff})\"\n",
    "\n",
    "    \n",
    "class TitForTat(Agent):\n",
    "    def __init__(self):\n",
    "        super().__init__()\n",
    "        self.typ = 'tft'\n",
    "    \n",
    "    def respond(self, action=None):\n",
    "        if action == 'D':\n",
    "            return 'D'\n",
    "        else:\n",
    "            return 'C'\n",
    "\n",
    "class Cooperator(Agent):\n",
    "    def __init__(self):\n",
    "        super().__init__()\n",
    "        self.typ = 'coop'\n",
    "\n",
    "    def respond(self, action=None):\n",
    "        return 'C'\n",
    "    \n",
    "    \n",
    "class Defector(Agent):\n",
    "    def __init__(self):\n",
    "        super().__init__()\n",
    "        self.typ = 'def'\n",
    "\n",
    "    def respond(self, action=None):\n",
    "        return 'D'\n",
    "    \n",
    "    \n",
    "class Randomer(Agent):\n",
    "    def __init__(self):\n",
    "        super().__init__()\n",
    "        self.typ = 'rnd'\n",
    "\n",
    "    def respond(self, action=None):\n",
    "        return random.choice(['C', 'D'])\n",
    "    "
   ]
  },
  {
   "cell_type": "markdown",
   "id": "8ed5e393",
   "metadata": {},
   "source": [
    "## For our class Match, we need the following:\n",
    "\n",
    "#### Init parameters\n",
    "- `players`: a list (or a tuple of agents)\n",
    "- `turns`: how many times they will play the game\n",
    "\n",
    "#### Attributes\n",
    "We need to store the initial parameters. Moreover we need the following paameters to track it:\n",
    "- `self.previous_actions`: a list of previous moves of both agents\n",
    "- `self.current_round:` in which round are we\n",
    "\n",
    "#### Methods\n",
    "We can create the methods:\n",
    "- `self.play_round()`: the gameplay code for a single round. A single loop (remember yesterday)\n",
    "- `self.play()` loop to play all the rounds"
   ]
  },
  {
   "cell_type": "markdown",
   "id": "1eb4886b",
   "metadata": {},
   "source": [
    "### 11.1 Create the class `Match` with the initial parameters `players` and `turns`"
   ]
  },
  {
   "cell_type": "code",
   "execution_count": 93,
   "id": "3712ef69",
   "metadata": {},
   "outputs": [],
   "source": [
    "class Match:\n",
    "    def __init__(self, players, turns=10):\n",
    "        self.players = players\n",
    "        \n",
    "        self.p1 = players[0]\n",
    "        self.p2 = players[1]\n",
    "        \n",
    "        self.turns = turns\n",
    "        \n",
    "        self.previous_actions = [None, None]\n",
    "        \n",
    "        self.current_round = 0\n",
    "\n",
    "    def play_round(self, verbose=False):\n",
    "        # get responses\n",
    "        response1=self.p1.respond(self.previous_actions[1]) # respond to p2's previous action\n",
    "        response2=self.p2.respond(self.previous_actions[0]) # respond to p1's previous action\n",
    "    \n",
    "        \n",
    "        payoffs = PDGAME[(response1, response2)]\n",
    "        \n",
    "        self.p1.earn(payoffs[0])\n",
    "        self.p2.earn(payoffs[1])\n",
    "        \n",
    "        if verbose is True:\n",
    "            print(f\"P1 ({self.p1.typ}) plays {response1} and p2 ({self.p2.typ}) plays {response2} and they got {payoffs}\")\n",
    "        \n",
    "        \n",
    "        # update previous rounds\n",
    "        self.previous_actions = [response1, response2]\n",
    "        \n",
    "    def play(self, verbose=False):\n",
    "        for i in range(self.turns):\n",
    "            self.play_round(verbose)\n",
    "            \n",
    "        print(self.p1.payoff, self.p2.payoff)"
   ]
  },
  {
   "cell_type": "code",
   "execution_count": 94,
   "id": "e0333cb6",
   "metadata": {},
   "outputs": [],
   "source": [
    "a = TitForTat()\n",
    "b = Randomer()\n",
    "m1 = Match([a,b], turns = 20)\n"
   ]
  },
  {
   "cell_type": "code",
   "execution_count": 95,
   "id": "67439b72",
   "metadata": {},
   "outputs": [
    {
     "name": "stdout",
     "output_type": "stream",
     "text": [
      "P1 (tft) plays C and p2 (rnd) plays C and they got (2, 2)\n",
      "P1 (tft) plays C and p2 (rnd) plays C and they got (2, 2)\n",
      "P1 (tft) plays C and p2 (rnd) plays C and they got (2, 2)\n",
      "P1 (tft) plays C and p2 (rnd) plays D and they got (0, 3)\n",
      "P1 (tft) plays D and p2 (rnd) plays D and they got (1, 1)\n",
      "P1 (tft) plays D and p2 (rnd) plays D and they got (1, 1)\n",
      "P1 (tft) plays D and p2 (rnd) plays D and they got (1, 1)\n",
      "P1 (tft) plays D and p2 (rnd) plays D and they got (1, 1)\n",
      "P1 (tft) plays D and p2 (rnd) plays D and they got (1, 1)\n",
      "P1 (tft) plays D and p2 (rnd) plays D and they got (1, 1)\n",
      "P1 (tft) plays D and p2 (rnd) plays D and they got (1, 1)\n",
      "P1 (tft) plays D and p2 (rnd) plays D and they got (1, 1)\n",
      "P1 (tft) plays D and p2 (rnd) plays D and they got (1, 1)\n",
      "P1 (tft) plays D and p2 (rnd) plays D and they got (1, 1)\n",
      "P1 (tft) plays D and p2 (rnd) plays C and they got (3, 0)\n",
      "P1 (tft) plays C and p2 (rnd) plays D and they got (0, 3)\n",
      "P1 (tft) plays D and p2 (rnd) plays D and they got (1, 1)\n",
      "P1 (tft) plays D and p2 (rnd) plays C and they got (3, 0)\n",
      "P1 (tft) plays C and p2 (rnd) plays D and they got (0, 3)\n",
      "P1 (tft) plays D and p2 (rnd) plays D and they got (1, 1)\n",
      "24 27\n"
     ]
    }
   ],
   "source": [
    "m1.play(verbose=True)"
   ]
  },
  {
   "cell_type": "markdown",
   "id": "c8ce4725",
   "metadata": {},
   "source": [
    "### 11.2 Create the attributes `previous_actions` and `current_round`. You need to initialize with sensible default values"
   ]
  },
  {
   "cell_type": "markdown",
   "id": "09795c5b",
   "metadata": {},
   "source": [
    "### 11.3 Create the method `play_round`. We can adapt what's inside in our previous loop from yesterday."
   ]
  },
  {
   "cell_type": "markdown",
   "id": "0c25fbc8",
   "metadata": {},
   "source": [
    "### 11.4 Create the method `play`. That would loop for playing all rounds."
   ]
  },
  {
   "cell_type": "markdown",
   "id": "f822cb24",
   "metadata": {},
   "source": [
    "### 11.5 Add a parameter to `play_round` and `play`, whether to print the interaction."
   ]
  },
  {
   "cell_type": "markdown",
   "id": "09f70a7b",
   "metadata": {},
   "source": [
    "### 11.6 Think about how to get the data from this interaction. We will not do it at this point."
   ]
  },
  {
   "cell_type": "markdown",
   "id": "2545d5fb",
   "metadata": {},
   "source": [
    "### 11.7 Create four agents from each type. Make them match for 10 rounds? How does it look?"
   ]
  }
 ],
 "metadata": {
  "kernelspec": {
   "display_name": "Python 3 (ipykernel)",
   "language": "python",
   "name": "python3"
  },
  "language_info": {
   "codemirror_mode": {
    "name": "ipython",
    "version": 3
   },
   "file_extension": ".py",
   "mimetype": "text/x-python",
   "name": "python",
   "nbconvert_exporter": "python",
   "pygments_lexer": "ipython3",
   "version": "3.10.4"
  }
 },
 "nbformat": 4,
 "nbformat_minor": 5
}
