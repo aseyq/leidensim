{
 "cells": [
  {
   "cell_type": "markdown",
   "id": "856e7d71",
   "metadata": {},
   "source": [
    "## AgentPy Tutorial 1 - Wealth Transfer Model"
   ]
  },
  {
   "cell_type": "markdown",
   "id": "43534a8b",
   "metadata": {},
   "source": [
    "First you need to install `agentpy` if you haven't already:"
   ]
  },
  {
   "cell_type": "markdown",
   "id": "692587c5",
   "metadata": {},
   "source": [
    "`pip install agentpy`"
   ]
  },
  {
   "cell_type": "markdown",
   "id": "45c79f00",
   "metadata": {},
   "source": [
    "Dragulescu, Adrian, and Victor M. Yakovenko. \"Statistical mechanics of money.\" The European Physical Journal B-Condensed Matter and Complex Systems 17.4 (2000): 723-729."
   ]
  },
  {
   "cell_type": "markdown",
   "id": "ee3fd879",
   "metadata": {},
   "source": [
    "The rules:\n",
    "\n",
    "- 100 agents    \n",
    "- They all have 1 unit of money\n",
    "- At every step, they give 1 unit of money to a random agent, if they have it."
   ]
  },
  {
   "cell_type": "code",
   "execution_count": null,
   "id": "99868349",
   "metadata": {},
   "outputs": [],
   "source": [
    "import agentpy as ap\n",
    "\n",
    "# Keep this\n",
    "def std(x):\n",
    "    \"\"\" function to create standard deviation\"\"\"\n",
    "    return np.std(np.array(x))"
   ]
  },
  {
   "cell_type": "markdown",
   "id": "1602e6cb",
   "metadata": {},
   "source": [
    "#### We imported `agentpy` as `ap`. \n",
    "#### Create an `Agent` class inherited from `ap.Agent`\n",
    "#### Create a `setup(self)` method and initialize `self.wealth` variable to 1.\n",
    "#### Create a `wealth_transfer` function.  Write an if statement in which:\n",
    "       - if I have enough money (1 or more), I lose 1 unit."
   ]
  },
  {
   "cell_type": "code",
   "execution_count": null,
   "id": "2d228496",
   "metadata": {},
   "outputs": [],
   "source": [
    "class Agent:\n",
    "    pass"
   ]
  },
  {
   "cell_type": "markdown",
   "id": "dad7f989",
   "metadata": {},
   "source": [
    "From an agent class, you can reach to the model it belongs by `agent.model`. Similarly you can reach the agent list by `self.model.agents`.\n",
    "\n",
    "### Now modify your `wealth_transfer` function. Pick a random agent from the population. And instead of just losing money, you give your money to that agent."
   ]
  },
  {
   "cell_type": "markdown",
   "id": "bb74ed66",
   "metadata": {},
   "source": [
    "\n",
    "### Create a model called `WealthModel` and inherit from `ap.Model`.\n",
    "\n",
    "### Create a setup method. That is the equivalent of `__init__` in AgentPy. You should create a nubmer of agents using this method. We don't have to specify the number of agents beforehand. instead we can use `self.p.agents`, stands for the value of `agents` key in the parameter dictionary.\n",
    "\n",
    "### Create a step method in which you run `wealth_transfer()` method for each agent.\n",
    "\n",
    "### Create an update function which records the standard deviation of agent wealth. You can reach the agents wealth by `self.agents.wealth` in the model. You can use `self.record` function provided by AgentPy. It works like that:\n",
    "\n",
    "```\n",
    "    self.record('Name of the data', data)\n",
    "```\n",
    "\n",
    "### This method is run in your Model class. Similarly if you'd like to record data from each agent, you can run in every agents by `self.agents.record`\n",
    "\n",
    "### Create an `end` method and at the end of the simulation, record wealth of each agent."
   ]
  },
  {
   "cell_type": "code",
   "execution_count": null,
   "id": "6e9f3753",
   "metadata": {},
   "outputs": [],
   "source": [
    "class WealthModel:\n",
    "    pass"
   ]
  },
  {
   "cell_type": "markdown",
   "id": "732eaba0",
   "metadata": {},
   "source": [
    "### Create a parameters dictionary."
   ]
  },
  {
   "cell_type": "code",
   "execution_count": null,
   "id": "2956740b",
   "metadata": {},
   "outputs": [],
   "source": [
    "parameters = {'agents':, 'steps': }"
   ]
  },
  {
   "cell_type": "markdown",
   "id": "8122d073",
   "metadata": {},
   "source": [
    "Run the following lines to see the results"
   ]
  },
  {
   "cell_type": "code",
   "execution_count": null,
   "id": "a277f4e6",
   "metadata": {},
   "outputs": [],
   "source": [
    "model = WealthModel(parameters)\n",
    "results = model.run()\n",
    "\n"
   ]
  },
  {
   "cell_type": "code",
   "execution_count": null,
   "id": "70173f44",
   "metadata": {},
   "outputs": [],
   "source": [
    "results\n",
    "\n",
    "\n"
   ]
  },
  {
   "cell_type": "code",
   "execution_count": null,
   "id": "8ac16b3a",
   "metadata": {},
   "outputs": [],
   "source": [
    "model = WealthModel(parameters)\n",
    "results = model.run()\n",
    "\n"
   ]
  },
  {
   "cell_type": "code",
   "execution_count": null,
   "id": "6631b1ac",
   "metadata": {},
   "outputs": [],
   "source": [
    "results"
   ]
  },
  {
   "cell_type": "code",
   "execution_count": null,
   "id": "c098bf34",
   "metadata": {},
   "outputs": [],
   "source": [
    "results.info"
   ]
  },
  {
   "cell_type": "code",
   "execution_count": null,
   "id": "305a0459",
   "metadata": {},
   "outputs": [],
   "source": [
    "data = results.variables.WealthModel\n",
    "ax = data.plot()"
   ]
  },
  {
   "cell_type": "code",
   "execution_count": null,
   "id": "c3c496e1",
   "metadata": {},
   "outputs": [],
   "source": [
    "import seaborn as sns\n",
    "sns.histplot(data=results.variables.WealthAgent, binwidth=1);"
   ]
  },
  {
   "cell_type": "code",
   "execution_count": null,
   "id": "f55a3063",
   "metadata": {},
   "outputs": [],
   "source": []
  }
 ],
 "metadata": {
  "kernelspec": {
   "display_name": "Python 3 (ipykernel)",
   "language": "python",
   "name": "python3"
  },
  "language_info": {
   "codemirror_mode": {
    "name": "ipython",
    "version": 3
   },
   "file_extension": ".py",
   "mimetype": "text/x-python",
   "name": "python",
   "nbconvert_exporter": "python",
   "pygments_lexer": "ipython3",
   "version": "3.10.4"
  }
 },
 "nbformat": 4,
 "nbformat_minor": 5
}
