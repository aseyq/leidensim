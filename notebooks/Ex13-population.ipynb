{
 "cells": [
  {
   "cell_type": "markdown",
   "id": "7aad0f77",
   "metadata": {},
   "source": [
    "### Copy paste the match and agent definitons from the exercise before"
   ]
  },
  {
   "cell_type": "code",
   "execution_count": 124,
   "id": "7df271f1",
   "metadata": {},
   "outputs": [],
   "source": [
    "PDGAME = {('C','C'): (2, 2), ('C', 'D'): (0, 3), ('D', 'C'): (3, 0), ('D','D'): (1, 1)}\n",
    "\n",
    "import random \n",
    "import string\n",
    "import collections\n",
    "\n",
    "class Agent:\n",
    "    def __init__(self, name=None, opponent=None):        \n",
    "        self.typ = None \n",
    "        \n",
    "        if name:\n",
    "            self.name = name            \n",
    "        else:\n",
    "            self.name = ''.join(random.choices(string.ascii_lowercase, k=5))\n",
    "        \n",
    "        self.payoff = 0\n",
    "        \n",
    "        self.opponent = opponent\n",
    "        \n",
    "    def earn(self, points):\n",
    "        self.payoff += points\n",
    "        \n",
    "    def reproduce(self):\n",
    "        return self.__class__()\n",
    "        \n",
    "    def __repr__(self):\n",
    "        return f\"(N: {self.name} T: {self.typ} P: {self.payoff})\"\n",
    "\n",
    "    \n",
    "class TitForTat(Agent):\n",
    "    def __init__(self):\n",
    "        super().__init__()\n",
    "        self.typ = 'tft'\n",
    "    \n",
    "    def respond(self, action=None):\n",
    "        if action == 'D':\n",
    "            return 'D'\n",
    "        else:\n",
    "            return 'C'\n",
    "\n",
    "class Cooperator(Agent):\n",
    "    def __init__(self):\n",
    "        super().__init__()\n",
    "        self.typ = 'coop'\n",
    "\n",
    "    def respond(self, action=None):\n",
    "        return 'C'\n",
    "    \n",
    "    \n",
    "class Defector(Agent):\n",
    "    def __init__(self):\n",
    "        super().__init__()\n",
    "        self.typ = 'def'\n",
    "\n",
    "    def respond(self, action=None):\n",
    "        return 'D'\n",
    "    \n",
    "    \n",
    "class Randomer(Agent):\n",
    "    def __init__(self):\n",
    "        super().__init__()\n",
    "        self.typ = 'rnd'\n",
    "\n",
    "    def respond(self, action=None):\n",
    "        return random.choice(['C', 'D'])\n",
    "    "
   ]
  },
  {
   "cell_type": "code",
   "execution_count": 125,
   "id": "0b8e7155",
   "metadata": {},
   "outputs": [],
   "source": [
    "class Match:\n",
    "    def __init__(self, players, turns=10):\n",
    "        self.players = players\n",
    "        \n",
    "        self.p1 = players[0]\n",
    "        self.p2 = players[1]\n",
    "        \n",
    "        self.turns = turns\n",
    "        \n",
    "        self.previous_actions = [None, None]\n",
    "        \n",
    "        self.current_round = 0\n",
    "\n",
    "    def play_round(self, verbose=False):\n",
    "        # get responses\n",
    "        response1=self.p1.respond(self.previous_actions[1]) # respond to p2's previous action\n",
    "        response2=self.p2.respond(self.previous_actions[0]) # respond to p1's previous action\n",
    "    \n",
    "        \n",
    "        payoffs = PDGAME[(response1, response2)]\n",
    "        \n",
    "        self.p1.earn(payoffs[0])\n",
    "        self.p2.earn(payoffs[1])\n",
    "        \n",
    "        if verbose is True:\n",
    "            print(f\"P1 ({self.p1.typ}) plays {response1} and p2 ({self.p2.typ}) plays {response2} and they got {payoffs}\")\n",
    "        \n",
    "        \n",
    "        # update previous rounds\n",
    "        self.previous_actions = [response1, response2]\n",
    "        \n",
    "    def play(self, verbose=False):\n",
    "        for i in range(self.turns):\n",
    "            self.play_round(verbose)\n",
    "            \n",
    "        # print(self.p1.payoff, self.p2.payoff)"
   ]
  },
  {
   "cell_type": "code",
   "execution_count": 153,
   "id": "1ec50d17",
   "metadata": {},
   "outputs": [],
   "source": [
    "possible_classes = [TitForTat, Defector, Cooperator, Randomer]"
   ]
  },
  {
   "cell_type": "code",
   "execution_count": 135,
   "id": "68e8fc8f",
   "metadata": {},
   "outputs": [],
   "source": [
    "class Population:\n",
    "    def __init__(self, num_agents):\n",
    "        \n",
    "        if not num_agents % 2 == 0:\n",
    "            print(\"hey this not even!. it may not work!\")\n",
    "        \n",
    "        self.agents = [] \n",
    "        self.matches = []\n",
    "        self.generation = 0\n",
    "        self.type_history = []\n",
    "        \n",
    "        \n",
    "        for i in range(num_agents):\n",
    "            my_random_agent = random.choice(possible_classes)()  #<- here it is a trick ()\n",
    "            \n",
    "            self.agents.append(my_random_agent)\n",
    "\n",
    "    def pair_agents(self):        \n",
    "        random.shuffle(self.agents)\n",
    "        \n",
    "        half_number = int(len(self.agents) / 2)\n",
    "        \n",
    "        part1 = self.agents[:half_number]\n",
    "        part2 = self.agents[half_number:]\n",
    "        \n",
    "        \n",
    "        for i in range(len(part1)):\n",
    "            new_match = Match([part1[i], part2[i]])\n",
    "            new_match.play()\n",
    "            \n",
    "            self.matches.append(new_match)\n",
    "\n",
    "    def get_points(self):\n",
    "        points = [a.payoff for a in self.agents]\n",
    "        return points\n",
    "    \n",
    "    def get_types(self):\n",
    "        typs = [a.typ for a in self.agents]\n",
    "        return typs\n",
    "    \n",
    "    def count_types(self):\n",
    "        typs = self.get_types()\n",
    "        return collections.Counter(typs)\n",
    "\n",
    "    def get_fitnesses(self):\n",
    "        points = self.get_points()\n",
    "        total_points = sum(points)\n",
    "        \n",
    "        # if you need some exceptions, define it.\n",
    "        if total_points == 0:\n",
    "            n_agents = len(self.agents)\n",
    "            \n",
    "            fitnesses = [1/n_agents for i in range(n_agents)]\n",
    "        \n",
    "        if total_points > 0:\n",
    "            fitnesses = [p/total_points for p in points]\n",
    "        \n",
    "        return fitnesses\n",
    "    \n",
    "    def reproduce(self):\n",
    "        agents_to_reproduce = random.choices(self.agents, \n",
    "                                             self.get_fitnesses(), \n",
    "                                             k=len(self.agents))\n",
    "        \n",
    "        new_agents = []\n",
    "        \n",
    "        for a in agents_to_reproduce:\n",
    "            newborn = a.reproduce()\n",
    "            \n",
    "            new_agents.append(newborn)\n",
    "            self.agents = new_agents\n",
    "            \n",
    "    def step(self): \n",
    "        # this is usually the recipe for each round\n",
    "        self.type_history.append(self.count_types())\n",
    "        self.pair_agents()        \n",
    "        self.reproduce()\n",
    "        self.generation += 1"
   ]
  },
  {
   "cell_type": "code",
   "execution_count": 148,
   "id": "a02b51b0",
   "metadata": {},
   "outputs": [],
   "source": [
    "my_pop = Population(200)"
   ]
  },
  {
   "cell_type": "code",
   "execution_count": 149,
   "id": "7ba41ac1",
   "metadata": {},
   "outputs": [],
   "source": [
    "for i in range(100):\n",
    "    my_pop.step()\n"
   ]
  },
  {
   "cell_type": "code",
   "execution_count": 150,
   "id": "6be7f51f",
   "metadata": {},
   "outputs": [
    {
     "name": "stdout",
     "output_type": "stream",
     "text": [
      "     rnd  tft  coop   def\n",
      "0   49.0   54  49.0  48.0\n",
      "1   53.0   60  33.0  54.0\n",
      "2   53.0   63  28.0  56.0\n",
      "3   54.0   59  26.0  61.0\n",
      "4   51.0   58  15.0  76.0\n",
      "..   ...  ...   ...   ...\n",
      "95   0.0  200   0.0   0.0\n",
      "96   0.0  200   0.0   0.0\n",
      "97   0.0  200   0.0   0.0\n",
      "98   0.0  200   0.0   0.0\n",
      "99   0.0  200   0.0   0.0\n",
      "\n",
      "[100 rows x 4 columns]\n"
     ]
    }
   ],
   "source": [
    "import pandas as pd\n",
    "\n",
    "df=pd.DataFrame(my_pop.type_history)\n",
    "df=df.fillna(0)\n",
    "print(df)\n",
    "\n",
    "df.to_csv(\"my_data.csv\")"
   ]
  },
  {
   "cell_type": "code",
   "execution_count": 152,
   "id": "9b8112bf",
   "metadata": {},
   "outputs": [
    {
     "data": {
      "text/plain": [
       "<matplotlib.legend.Legend at 0x7fa04ccce410>"
      ]
     },
     "execution_count": 152,
     "metadata": {},
     "output_type": "execute_result"
    },
    {
     "data": {
      "image/png": "[encoded data removed]",
      "text/plain": [
       "<Figure size 432x288 with 1 Axes>"
      ]
     },
     "metadata": {
      "needs_background": "light"
     },
     "output_type": "display_data"
    }
   ],
   "source": [
    "import matplotlib.pyplot as plt\n",
    "\n",
    "plt.stackplot(range(len(df)), df.T, labels=df.columns)\n",
    "plt.legend(loc=\"upper center\")"
   ]
  },
  {
   "cell_type": "code",
   "execution_count": null,
   "id": "03b5b782",
   "metadata": {},
   "outputs": [],
   "source": []
  },
  {
   "cell_type": "markdown",
   "id": "055c367d",
   "metadata": {},
   "source": [
    "## Population basics"
   ]
  },
  {
   "cell_type": "markdown",
   "id": "8fe5586a",
   "metadata": {},
   "source": [
    "### 13.1 Create a `Population` class. It should take `num_agents` as an initial value. Write a procedure to create number of generic agents from the Agent class."
   ]
  },
  {
   "cell_type": "markdown",
   "id": "e302cd9d",
   "metadata": {},
   "source": [
    "### 13.2 Can you use list comprehension to shorten the class generation loop?\n"
   ]
  },
  {
   "cell_type": "markdown",
   "id": "ebc3dafd",
   "metadata": {},
   "source": [
    "### 13.3 Now we have a list of generic agents. How can we create random agents from a child class?\n",
    "#### Hint: random.choice may help you. But now you are not just picking a number or a string but a class. Can you exploit the flexibilty of python to generate it just in place."
   ]
  },
  {
   "cell_type": "markdown",
   "id": "95364f28",
   "metadata": {},
   "source": [
    "### 13.4 Now we need to generate pairs (or matches). We can of course take the agents two-by-two. Since we have a random generation process that wouldn't hurt. But it is a good practice to use a random matching. Can you think of a method doing this."
   ]
  },
  {
   "cell_type": "markdown",
   "id": "4a8cdbbf",
   "metadata": {},
   "source": [
    "## Fitness and regeneration"
   ]
  },
  {
   "cell_type": "markdown",
   "id": "5d413a3f",
   "metadata": {},
   "source": [
    "### 13.5 We need some sort of calculation for fitness variable. What information do we need to calculate the individual fitness of each individual?"
   ]
  },
  {
   "cell_type": "markdown",
   "id": "2ce936af",
   "metadata": {},
   "source": [
    "### 13.6 How can we regenerate the agents based on their fitnesses? "
   ]
  },
  {
   "cell_type": "markdown",
   "id": "5b7e7243",
   "metadata": {},
   "source": [
    "### 13.7 It would be useful to have a `regenerate` method for the agent. How do you think we can implement such a function."
   ]
  },
  {
   "cell_type": "markdown",
   "id": "b3f707f0",
   "metadata": {},
   "source": [
    "### 13.8 Write a regeneration function for the population which recreates all the agents from scratch based on their fitness."
   ]
  },
  {
   "cell_type": "markdown",
   "id": "16fc3a2e",
   "metadata": {},
   "source": [
    "### 13.9 Identify what else we need to implement it. (I might have forgotten somehing). When done create a `step()` function to automatize methods to run in each step.\n"
   ]
  },
  {
   "cell_type": "markdown",
   "id": "bbf4278b",
   "metadata": {},
   "source": [
    "### 11.8 Imagine a situation that we get 0 points from everybody? What kind of a problem it would create? How would you solve the problem?\n",
    "\n",
    "### 11.9 We used `Counter` function from library `collections`. This is a helpful function which counts each unique list items. Can you convert this step as a method for the which counts types with the name `count_types()`\n",
    "\n",
    "### Notice that it returns a special object called `Counter` wrapped to a dictionary. Check the documentation for it and find out what you can do with it? Can you use it as a dictionary directly?\n",
    "\n",
    "### In these simulations, we took the payoff of an individual as the fitness. And we defined fitness as an individual level. So in this current form, if a type dies out, it cannot be present in the following rounds. Lets think of another scenario where there is a 0.1 chance that the replacement will be a mutation: one agent with a random type in the simulation. Implement such a mutation (add as a parameter) and see what happens."
   ]
  },
  {
   "cell_type": "code",
   "execution_count": null,
   "id": "900bfe86",
   "metadata": {},
   "outputs": [],
   "source": []
  },
  {
   "cell_type": "code",
   "execution_count": null,
   "id": "cb73327e",
   "metadata": {},
   "outputs": [],
   "source": []
  }
 ],
 "metadata": {
  "kernelspec": {
   "display_name": "Python 3 (ipykernel)",
   "language": "python",
   "name": "python3"
  },
  "language_info": {
   "codemirror_mode": {
    "name": "ipython",
    "version": 3
   },
   "file_extension": ".py",
   "mimetype": "text/x-python",
   "name": "python",
   "nbconvert_exporter": "python",
   "pygments_lexer": "ipython3",
   "version": "3.10.4"
  }
 },
 "nbformat": 4,
 "nbformat_minor": 5
}
