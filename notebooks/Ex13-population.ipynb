{
 "cells": [
  {
   "cell_type": "markdown",
   "id": "7aad0f77",
   "metadata": {},
   "source": [
    "### Copy paste the match and agent definitons from the exercise before"
   ]
  },
  {
   "cell_type": "code",
   "execution_count": 8,
   "id": "7df271f1",
   "metadata": {},
   "outputs": [],
   "source": [
    "PDGAME = {('C','C'): (2, 2), ('C', 'D'): (0, 3), ('D', 'C'): (3, 0), ('D','D'): (1, 1)}\n",
    "\n",
    "import random \n",
    "import string\n",
    "\n",
    "### Base Agent Class\n",
    "class Agent:\n",
    "    # set initial variables\n",
    "    def __init__(self, name=None, opponent=None):\n",
    "        \n",
    "        if name:\n",
    "            self.name = name            \n",
    "        else:\n",
    "            self.name = ''.join(random.choices(string.ascii_lowercase, k=6))\n",
    "        \n",
    "        self.payoff = 0\n",
    "        \n",
    "        self.opponent = opponent\n",
    "        \n",
    "    # helper for gaining points\n",
    "    def earn(self, points):\n",
    "        self.payoff += points\n",
    "    \n",
    "    def __repr__(self):\n",
    "        return f\"| N:{self.name} T:{self.typ} P:{self.payoff} |\"\n",
    "    \n",
    "    \n",
    "class Cooperator(Agent):\n",
    "    def __init__(self):\n",
    "        super().__init__()\n",
    "        self.typ = 'coop'\n",
    "        \n",
    "    def respond(self, action=None):\n",
    "        return 'C'\n",
    "\n",
    "    \n",
    "class Defector(Agent):\n",
    "    def __init__(self):\n",
    "        super().__init__()\n",
    "        self.typ = 'def'\n",
    "    \n",
    "    def respond(self, action=None):\n",
    "        return 'D'\n",
    "\n",
    "    \n",
    "class TitForTat(Agent):\n",
    "    def __init__(self):\n",
    "        super().__init__()\n",
    "        self.typ = 'tft'\n",
    "    \n",
    "    def respond(self, action=None):\n",
    "        if action == 'D':\n",
    "            return 'D'\n",
    "        else:\n",
    "            return 'C'\n",
    "\n",
    "        \n",
    "class Random(Agent):\n",
    "    def __init__(self):\n",
    "        super().__init__()\n",
    "        self.typ = 'rnd'\n",
    "    \n",
    "    def respond(self, action=None):\n",
    "        return random.choice(['C', 'D'])\n",
    "    \n"
   ]
  },
  {
   "cell_type": "code",
   "execution_count": 21,
   "id": "0b8e7155",
   "metadata": {},
   "outputs": [],
   "source": [
    "class Pair:\n",
    "    def __init__(self, players, turns):\n",
    "        \n",
    "        self.players = players\n",
    "        self.p1 = players[0]\n",
    "        self.p2 = players[1]\n",
    "        self.turns = turns\n",
    "        \n",
    "        \n",
    "        self.p1_previous_move = None\n",
    "        self.p2_previous_move = None\n",
    "        \n",
    "        self.round = 0\n",
    "        \n",
    "    def next_round(self, verbose=False): # I added verbose\n",
    "        p1_move = self.p1.respond(self.p2_previous_move)\n",
    "        p2_move = self.p2.respond(self.p1_previous_move)\n",
    "        \n",
    "        payoff1, payoff2 = PDGAME[(p1_move, p2_move)]\n",
    "        \n",
    "        self.p1.earn(payoff1)\n",
    "        self.p2.earn(payoff2)\n",
    "        \n",
    "        if verbose:\n",
    "            print(f\"{self.p1} played {p1_move} and earned {payoff1} and {self.p2} played {p2_move} and earned {payoff2}\")\n",
    "        \n",
    "        \n",
    "        self.p1_previous_move = p1_move\n",
    "        self.p2_previous_move = p2_move\n",
    "        \n",
    "        self.round += 1\n",
    "        \n",
    "        \n",
    "    def match(self, verbose=False):\n",
    "        for i in range(self.turns):\n",
    "            self.next_round()\n",
    "        "
   ]
  },
  {
   "cell_type": "code",
   "execution_count": 22,
   "id": "774436b9",
   "metadata": {},
   "outputs": [],
   "source": [
    "myp=Pair([Cooperator(), Defector()], turns=10)"
   ]
  },
  {
   "cell_type": "code",
   "execution_count": 23,
   "id": "fe16e900",
   "metadata": {},
   "outputs": [],
   "source": [
    "myp.match()"
   ]
  },
  {
   "cell_type": "code",
   "execution_count": 24,
   "id": "3d68950e",
   "metadata": {},
   "outputs": [
    {
     "data": {
      "text/plain": [
       "[| N:dupjlw T:coop P:0 |, | N:fjwuiw T:def P:30 |]"
      ]
     },
     "execution_count": 24,
     "metadata": {},
     "output_type": "execute_result"
    }
   ],
   "source": [
    "myp.players"
   ]
  },
  {
   "cell_type": "markdown",
   "id": "055c367d",
   "metadata": {},
   "source": [
    "## Population basics"
   ]
  },
  {
   "cell_type": "markdown",
   "id": "8fe5586a",
   "metadata": {},
   "source": [
    "### 13.1 Create a `Population` class. It should take `num_agents` as an initial value. Write a procedure to create number of generic agents from the Agent class."
   ]
  },
  {
   "cell_type": "markdown",
   "id": "e302cd9d",
   "metadata": {},
   "source": [
    "### 13.2 Can you use list comprehension to shorten the class generation loop?\n"
   ]
  },
  {
   "cell_type": "markdown",
   "id": "ebc3dafd",
   "metadata": {},
   "source": [
    "### 13.3 Now we have a list of generic agents. How can we create random agents from a child class?\n",
    "#### Hint: random.choice may help you. But now you are not just picking a number or a string but a class. Can you exploit the flexibilty of python to generate it just in place."
   ]
  },
  {
   "cell_type": "markdown",
   "id": "95364f28",
   "metadata": {},
   "source": [
    "### 13.4 Now we need to generate pairs (or matches). We can of course take the agents two-by-two. Since we have a random generation process that wouldn't hurt. But it is a good practice to use a random matching. Can you think of a method doing this."
   ]
  },
  {
   "cell_type": "markdown",
   "id": "4a8cdbbf",
   "metadata": {},
   "source": [
    "## Fitness and regeneration"
   ]
  },
  {
   "cell_type": "markdown",
   "id": "5d413a3f",
   "metadata": {},
   "source": [
    "### 13.5 We need some sort of calculation for fitness variable. What information do we need to calculate the individual fitness of each individual?"
   ]
  },
  {
   "cell_type": "markdown",
   "id": "2ce936af",
   "metadata": {},
   "source": [
    "### 13.6 How can we regenerate the agents based on their fitnesses? "
   ]
  },
  {
   "cell_type": "markdown",
   "id": "5b7e7243",
   "metadata": {},
   "source": [
    "### 13.7 It would be useful to have a `regenerate` method for the agent. How do you think we can implement such a function."
   ]
  },
  {
   "cell_type": "markdown",
   "id": "b3f707f0",
   "metadata": {},
   "source": [
    "### 13.8 Write a regeneration function for the population which recreates all the agents from scratch based on their fitness."
   ]
  },
  {
   "cell_type": "markdown",
   "id": "16fc3a2e",
   "metadata": {},
   "source": [
    "### 13.9 Identify what else we need to implement it. (I might have forgotten somehing). When done create a `step()` function to automatize methods to run in each step.\n"
   ]
  },
  {
   "cell_type": "markdown",
   "id": "bbf4278b",
   "metadata": {},
   "source": [
    "### 11.8 Imagine a situation that we might get 0 points from everybody? What kind of a problem it would create? How would you solve the problem?\n",
    "\n",
    "### 11.9 We used `Counter` function from library `collections`. This is a helpful function which counts each unique list items. Can you convert this step as a method for the which counts types with the name `count_types()`\n",
    "\n",
    "### Notice that it returns a special object called `Counter` wrapped to a dictionary. Check the documentation for it and find out what you can do with it? Can you use it as a dictionary directly?\n",
    "\n",
    "### In these simulations, we took the payoff of an individual as the fitness. And we defined fitness as an individual level. So in this current form, if a type dies out, it cannot be present in the following rounds. Lets think of another scenario where there is a 0.1 chance that the replacement will be a mutation: one agent with a random type in the simulation. Implement such a mutation (add as a parameter) and see what happens."
   ]
  },
  {
   "cell_type": "code",
   "execution_count": null,
   "id": "900bfe86",
   "metadata": {},
   "outputs": [],
   "source": []
  },
  {
   "cell_type": "code",
   "execution_count": null,
   "id": "cb73327e",
   "metadata": {},
   "outputs": [],
   "source": []
  }
 ],
 "metadata": {
  "kernelspec": {
   "display_name": "Python 3 (ipykernel)",
   "language": "python",
   "name": "python3"
  },
  "language_info": {
   "codemirror_mode": {
    "name": "ipython",
    "version": 3
   },
   "file_extension": ".py",
   "mimetype": "text/x-python",
   "name": "python",
   "nbconvert_exporter": "python",
   "pygments_lexer": "ipython3",
   "version": "3.10.4"
  }
 },
 "nbformat": 4,
 "nbformat_minor": 5
}
