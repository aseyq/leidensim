{
 "cells": [
  {
   "cell_type": "markdown",
   "id": "d334af63",
   "metadata": {},
   "source": [
    "### Copy paste your game and models from the previous exercise"
   ]
  },
  {
   "cell_type": "code",
   "execution_count": 10,
   "id": "43670a40",
   "metadata": {},
   "outputs": [],
   "source": [
    "PDGAME = {('C','C'): (2, 2), ('C', 'D'): (0, 3), ('D', 'C'): (3, 0), ('D','D'): (1, 1)}\n",
    "\n",
    "import random \n",
    "\n",
    "### Base Agent Class\n",
    "class Agent:\n",
    "    # set initial variables\n",
    "    def __init__(self, name=None, opponent=None):\n",
    "        \n",
    "        if name:\n",
    "            self.name = name            \n",
    "        else:\n",
    "            self.name = ''.join(random.choices(string.ascii_lowercase, k=6))\n",
    "        \n",
    "        self.payoff = 0\n",
    "        \n",
    "        self.opponent = opponent\n",
    "        \n",
    "    # helper for gaining points\n",
    "    def earn(self, points):\n",
    "        self.payoff += points\n",
    "    \n",
    "    def __repr__(self):\n",
    "        return f\"| N:{self.name} T:{self.typ} P:{self.payoff} |\"\n",
    "    \n",
    "    \n",
    "class Cooperator(Agent):\n",
    "    def __init__(self):\n",
    "        super().__init__()\n",
    "        self.typ = 'coop'\n",
    "        \n",
    "    def respond(self, action=None):\n",
    "        return 'C'\n",
    "\n",
    "    \n",
    "class Defector(Agent):\n",
    "    def __init__(self):\n",
    "        super().__init__()\n",
    "        self.typ = 'def'\n",
    "    \n",
    "    def respond(self, action=None):\n",
    "        return 'D'\n",
    "\n",
    "    \n",
    "class TitForTat(Agent):\n",
    "    def __init__(self):\n",
    "        super().__init__()\n",
    "        self.typ = 'tft'\n",
    "    \n",
    "    def respond(self, action=None):\n",
    "        if action == 'D':\n",
    "            return 'D'\n",
    "        else:\n",
    "            return 'C'\n",
    "\n",
    "        \n",
    "class Random(Agent):\n",
    "    def __init__(self):\n",
    "        super().__init__()\n",
    "        self.typ = 'rnd'\n",
    "    \n",
    "    def respond(self, action=None):\n",
    "        return random.choice(['C', 'D'])\n",
    "    \n"
   ]
  },
  {
   "cell_type": "markdown",
   "id": "8ed5e393",
   "metadata": {},
   "source": [
    "## For our class Match, we need the following:\n",
    "\n",
    "#### Init parameters\n",
    "- `players`: a list (or a tuple of agents)\n",
    "- `turns`: how many times they will play the game\n",
    "\n",
    "#### Attributes\n",
    "We need to store the initial parameters. Moreover we need the following paameters to track it:\n",
    "- `self.previous_actions`: a list of previous moves of both agents\n",
    "- `self.current_round:` in which round are we\n",
    "\n",
    "#### Methods\n",
    "We can create the methods:\n",
    "- `self.play_round()`: the gameplay code for a single round. A single loop (remember yesterday)\n",
    "- `self.play()` loop to play all the rounds"
   ]
  },
  {
   "cell_type": "markdown",
   "id": "1eb4886b",
   "metadata": {},
   "source": [
    "### 11.1 Create the class `Match` with the initial parameters `players` and `turns`"
   ]
  },
  {
   "cell_type": "code",
   "execution_count": 8,
   "id": "3712ef69",
   "metadata": {},
   "outputs": [],
   "source": [
    "class Match:\n",
    "    def __init__(self, players, turns):\n",
    "        pass"
   ]
  },
  {
   "cell_type": "markdown",
   "id": "c8ce4725",
   "metadata": {},
   "source": [
    "### 11.2 Create the attributes `previous_actions` and `current_rounds`. You need to initialize with sensible default values"
   ]
  },
  {
   "cell_type": "markdown",
   "id": "09795c5b",
   "metadata": {},
   "source": [
    "### 11.3 Create the method `play_round`. We can adapt what's inside in our previous loop from yesterday."
   ]
  },
  {
   "cell_type": "markdown",
   "id": "0c25fbc8",
   "metadata": {},
   "source": [
    "### 11.4 Create the method `play`. That would loop for playing all rounds."
   ]
  },
  {
   "cell_type": "markdown",
   "id": "f822cb24",
   "metadata": {},
   "source": [
    "### 11.5 Add a parameter to `play_round` and `play`, whether to print the interaction."
   ]
  },
  {
   "cell_type": "markdown",
   "id": "09f70a7b",
   "metadata": {},
   "source": [
    "### 11.6 Think about how to get the data from this interaction. We will not do it at this point."
   ]
  },
  {
   "cell_type": "markdown",
   "id": "2545d5fb",
   "metadata": {},
   "source": [
    "### 11.7 Create four agents from each type. Make them match for 10 rounds? How does it look?"
   ]
  }
 ],
 "metadata": {
  "kernelspec": {
   "display_name": "Python 3 (ipykernel)",
   "language": "python",
   "name": "python3"
  },
  "language_info": {
   "codemirror_mode": {
    "name": "ipython",
    "version": 3
   },
   "file_extension": ".py",
   "mimetype": "text/x-python",
   "name": "python",
   "nbconvert_exporter": "python",
   "pygments_lexer": "ipython3",
   "version": "3.10.4"
  }
 },
 "nbformat": 4,
 "nbformat_minor": 5
}
