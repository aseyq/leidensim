{
 "cells": [
  {
   "cell_type": "markdown",
   "id": "3b112e4d",
   "metadata": {},
   "source": [
    "### Ex 4.2 - Take the actors list and turn them into a dictionary."
   ]
  },
  {
   "cell_type": "code",
   "execution_count": null,
   "id": "bfcce164",
   "metadata": {},
   "outputs": [],
   "source": []
  },
  {
   "cell_type": "markdown",
   "id": "7f717529",
   "metadata": {},
   "source": [
    "### Ex 4.2 Add a new item your dictionary: Bob Saget with the value 1956"
   ]
  },
  {
   "cell_type": "code",
   "execution_count": null,
   "id": "341c75f7",
   "metadata": {},
   "outputs": [],
   "source": []
  },
  {
   "cell_type": "markdown",
   "id": "7aa3b8f0",
   "metadata": {},
   "source": [
    "### Ex 4.3 Loop over all the dictionary items and create a new dictionary called `random_id` containing a uniform random ids for each one of them between 0 and 1000. To avoid the decimals you can convert random ids to integers."
   ]
  },
  {
   "cell_type": "code",
   "execution_count": null,
   "id": "d7f7889c",
   "metadata": {},
   "outputs": [],
   "source": []
  }
 ],
 "metadata": {
  "kernelspec": {
   "display_name": "Python 3 (ipykernel)",
   "language": "python",
   "name": "python3"
  },
  "language_info": {
   "codemirror_mode": {
    "name": "ipython",
    "version": 3
   },
   "file_extension": ".py",
   "mimetype": "text/x-python",
   "name": "python",
   "nbconvert_exporter": "python",
   "pygments_lexer": "ipython3",
   "version": "3.10.4"
  }
 },
 "nbformat": 4,
 "nbformat_minor": 5
}
