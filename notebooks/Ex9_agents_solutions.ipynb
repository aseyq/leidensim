{
 "cells": [
  {
   "cell_type": "markdown",
   "id": "de7544b2",
   "metadata": {},
   "source": [
    "### Ex 9.1 Create an agent with the following properties:\n",
    "\n",
    "Class `Agent`\n",
    "#### Attributes\n",
    "- `name`: If provided initially, take it, otherwise 5 random letters\n",
    "- `payoff`: The points the agent get. Initialize from 0\n",
    "- `opponent`: leave it empty for now\n",
    "\n",
    "#### Methods\n",
    "- `say_hi()`: Tell your name and your points\n",
    "- `respond(action)`: You should always cooperate as a response. Cooperate can be represented with a string 'C' and defect with a string 'D'\n"
   ]
  },
  {
   "cell_type": "code",
   "execution_count": 89,
   "id": "00ec2d05",
   "metadata": {},
   "outputs": [],
   "source": [
    "PDGAME = {('C','C'): (2, 2), ('C', 'D'): (0, 3), ('D', 'C'): (3, 0), ('D','D'): (1, 1)}"
   ]
  },
  {
   "cell_type": "code",
   "execution_count": 102,
   "id": "529c1ebb",
   "metadata": {},
   "outputs": [],
   "source": [
    "import random \n",
    "\n",
    "class Agent:\n",
    "    def __init__(self, name=None, opponent=None):\n",
    "        \n",
    "        if name:\n",
    "            self.name = name            \n",
    "        else:\n",
    "            self.name = self.get_name()\n",
    "        \n",
    "        self.payoff = 0\n",
    "        \n",
    "        self.opponent = opponent\n",
    "        \n",
    "    def earn(self, points):\n",
    "        self.payoff += points\n",
    "        \n",
    "    def get_name(self):    \n",
    "        letters = \"abcdefghijklmnoprstuvwxyz\" \n",
    "        random_letters = random.choices(letters, k=5)\n",
    "        name = ''.join(random_letters)\n",
    "        return name\n",
    "    \n",
    "    def say_hi(self):\n",
    "        print(\"My name is \" + self.name + \"and I have \" + str(self.payoff) + \" points.\")\n",
    "    \n",
    "    def respond(self, action=None):\n",
    "        if action == 'D':\n",
    "            return 'D'\n",
    "        else:\n",
    "            return 'C'\n",
    "    \n",
    "    \n"
   ]
  },
  {
   "cell_type": "code",
   "execution_count": 113,
   "id": "90ac87d3",
   "metadata": {},
   "outputs": [
    {
     "name": "stdout",
     "output_type": "stream",
     "text": [
      "C C\n",
      "----\n",
      "C C\n",
      "----\n",
      "C C\n",
      "----\n",
      "C C\n",
      "----\n",
      "C C\n",
      "----\n",
      "C C\n",
      "----\n",
      "C C\n",
      "----\n",
      "C C\n",
      "----\n",
      "C C\n",
      "----\n",
      "C C\n",
      "----\n",
      "20 20\n"
     ]
    }
   ],
   "source": [
    "a1 = Agent(name=\"Alice\")\n",
    "a2 = Agent(name=\"Bob\")\n",
    "\n",
    "previous_action1 = None\n",
    "previous_action2 = None \n",
    "\n",
    "for i in range(10):\n",
    "    action1 = a1.respond(previous_action2)\n",
    "    action2 = a2.respond(previous_action1)\n",
    "\n",
    "    print(action1, action2)\n",
    "    payoffs = PDGAME[(action1, action2)]\n",
    "    \n",
    "    a1.earn(payoffs[0])\n",
    "    a2.earn(payoffs[1])\n",
    "    print(\"----\")\n",
    "    previous_action1 = action1\n",
    "    previous_action2 = action2\n",
    "    \n",
    "    \n",
    "print(a1.payoff, a2.payoff)\n",
    "    \n",
    "    "
   ]
  },
  {
   "cell_type": "markdown",
   "id": "ebd19a24",
   "metadata": {},
   "source": [
    "### Ex 9.2 Change the response function to impement a tit-for-tat. If the action is 'D' play 'D', 'C' otherwise.\n"
   ]
  },
  {
   "cell_type": "code",
   "execution_count": null,
   "id": "fd094290",
   "metadata": {},
   "outputs": [],
   "source": []
  },
  {
   "cell_type": "markdown",
   "id": "0caa4d2f",
   "metadata": {},
   "source": [
    "### Ex 9.2 Create the \"first move\" response, that is if there is no \"action\" provided. You need to check out the default parameter value in python functions for that."
   ]
  },
  {
   "cell_type": "markdown",
   "id": "8ffdb0cc",
   "metadata": {},
   "source": [
    "### Ex 9.3 Create a Prisoner's Dilemma Function. The input is the two actions of each player, and the output is two payoffs for each player."
   ]
  },
  {
   "cell_type": "markdown",
   "id": "a54810f7",
   "metadata": {},
   "source": [
    "### Ex 9.3 Now try to impement the same thing using a dictonary. How would you proceed?"
   ]
  },
  {
   "cell_type": "markdown",
   "id": "0dc8b7ba",
   "metadata": {},
   "source": [
    "### Ex 9.4 Create a loop which lets two agents play a game iteratively. Print out the actions."
   ]
  },
  {
   "cell_type": "code",
   "execution_count": null,
   "id": "337206bf",
   "metadata": {},
   "outputs": [],
   "source": []
  }
 ],
 "metadata": {
  "kernelspec": {
   "display_name": "Python 3 (ipykernel)",
   "language": "python",
   "name": "python3"
  },
  "language_info": {
   "codemirror_mode": {
    "name": "ipython",
    "version": 3
   },
   "file_extension": ".py",
   "mimetype": "text/x-python",
   "name": "python",
   "nbconvert_exporter": "python",
   "pygments_lexer": "ipython3",
   "version": "3.10.4"
  }
 },
 "nbformat": 4,
 "nbformat_minor": 5
}
