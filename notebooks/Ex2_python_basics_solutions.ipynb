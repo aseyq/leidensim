{
 "cells": [
  {
   "cell_type": "markdown",
   "id": "6062c5b6",
   "metadata": {},
   "source": [
    "# Exercise Set 2"
   ]
  },
  {
   "cell_type": "markdown",
   "id": "19e9edee",
   "metadata": {},
   "source": [
    "## Python Basics"
   ]
  },
  {
   "cell_type": "markdown",
   "id": "08e98b04",
   "metadata": {},
   "source": [
    "Now that we know how to create/edit and manipulate the cells, we can start with working in Python.\n"
   ]
  },
  {
   "cell_type": "markdown",
   "id": "6aecd4f1",
   "metadata": {},
   "source": [
    "### Ex 2.1. Calculating Public Good Game payoffs"
   ]
  },
  {
   "cell_type": "markdown",
   "id": "0377359a",
   "metadata": {},
   "source": [
    "Imagine that we have two players: A, B and C. They are playing a Public goods game. Each has to decide how much they should give from their initial endowment of 10 tokens to the public pool. They keep their unallocated tokens. The total number of tokens in the pool is multiplied by 2 and divided each player equally.\n",
    "\n",
    "Player A gives 8 tokens, Player B gives 3 tokens, and player C gives 2 tokens to the public pool. \n",
    "\n",
    "You are asked to create a calculator for this public good game. For that purpose:\n",
    "\n",
    "- Create a variable for the initial number of tokens: `initial`. (10)\n",
    "\n",
    "- Create a variable for the multiplier of the contributions to the public pool (2).\n",
    "\n",
    "- Create 3 variables for each player's contribution: `xA`, `xB`, `xC`. \n",
    "\n",
    "- Each participant will divide the return from the public good equally. Calculate the individual share. \n",
    "\n",
    "\n",
    "- Using these variables, calculate how much each participant earn. At the end print them all. \n",
    "\n",
    "- Then you can play around with the values and observe how things change.\n",
    "\n",
    "**tip**: in Python, you can print multiple variables by seperating them with a comma. You can "
   ]
  },
  {
   "cell_type": "code",
   "execution_count": 2,
   "id": "29cdb859",
   "metadata": {},
   "outputs": [
    {
     "name": "stdout",
     "output_type": "stream",
     "text": [
      "Payoff of Player A 10.666666666666666\n",
      "Payoff of Player B 15.666666666666666\n",
      "Payoff of Player C 16.666666666666664\n",
      "Individual Share 8.666666666666666\n"
     ]
    }
   ],
   "source": [
    "initial = 10\n",
    "multiplier = 2\n",
    "\n",
    "xA = 8\n",
    "xB = 3\n",
    "xC = 2\n",
    "\n",
    "individual_share = multiplier * (xA + xB + xC) / 3 \n",
    "\n",
    "payoffA = 10 - xA + individual_share\n",
    "payoffB = 10 - xB + individual_share\n",
    "payoffC = 10 - xC + individual_share\n",
    "\n",
    "print(\"Payoff of Player A\", payoffA) \n",
    "print(\"Payoff of Player B\", payoffB) \n",
    "print(\"Payoff of Player C\", payoffC) \n",
    "print(\"Individual Share\", individual_share)"
   ]
  },
  {
   "cell_type": "markdown",
   "id": "58b3be64",
   "metadata": {},
   "source": [
    "###  Ex 2.2 Get the type of the variables `xA` an `individual_share`. What type are they? If they have types other than int, convert them to int. See if they change.\n",
    "\n",
    "We haven't learnt how to convert a variable with one type to another. This is normal. There are eusually way more functions and methods we possibly can know by heart. After learning about the types of both variables, practice googling the conversion and do it in a new cell."
   ]
  },
  {
   "cell_type": "code",
   "execution_count": 6,
   "id": "f9479881",
   "metadata": {},
   "outputs": [
    {
     "name": "stdout",
     "output_type": "stream",
     "text": [
      "Type of xA <class 'int'>\n",
      "Type of individual share <class 'float'>\n",
      "8\n",
      "9\n"
     ]
    }
   ],
   "source": [
    "print(\"Type of xA\", type(xA))\n",
    "print(\"Type of individual share\", type(individual_share))\n",
    "\n",
    "\n",
    "individual_share_int = int(individual_share)\n",
    "print(individual_share_int) # the decimal part is gone\n",
    "print(round(individual_share)) # properly round"
   ]
  },
  {
   "cell_type": "markdown",
   "id": "cdd65de3",
   "metadata": {},
   "source": [
    "### Ex 2.3 Imagine we didn't have 3 participants but we had 20. It is extremely redundant to write each variable one by one to sum them up. Have you faced a similar problem in another progamming language. What kind of a solution that programming language offers. What kind of data typle we would use here."
   ]
  },
  {
   "cell_type": "markdown",
   "id": "a92a9686",
   "metadata": {},
   "source": [
    "We will use lists for that. In R you use vectors."
   ]
  },
  {
   "cell_type": "code",
   "execution_count": null,
   "id": "c61d6979",
   "metadata": {},
   "outputs": [],
   "source": []
  }
 ],
 "metadata": {
  "kernelspec": {
   "display_name": "Python 3 (ipykernel)",
   "language": "python",
   "name": "python3"
  },
  "language_info": {
   "codemirror_mode": {
    "name": "ipython",
    "version": 3
   },
   "file_extension": ".py",
   "mimetype": "text/x-python",
   "name": "python",
   "nbconvert_exporter": "python",
   "pygments_lexer": "ipython3",
   "version": "3.10.4"
  }
 },
 "nbformat": 4,
 "nbformat_minor": 5
}
