{
 "cells": [
  {
   "cell_type": "markdown",
   "id": "87f08e9f",
   "metadata": {},
   "source": [
    "# Exercise Set 6 - Strings"
   ]
  },
  {
   "cell_type": "markdown",
   "id": "e67dce59",
   "metadata": {},
   "source": [
    "## Looping Over Strings"
   ]
  },
  {
   "cell_type": "markdown",
   "id": "a42e67fd",
   "metadata": {},
   "source": [
    "### Ex6.1 Create a loop over the list `letters` below and print them in upper case. String variables has the method `.upper()` for that purpose."
   ]
  },
  {
   "cell_type": "code",
   "execution_count": 2,
   "id": "05e0d753",
   "metadata": {},
   "outputs": [
    {
     "name": "stdout",
     "output_type": "stream",
     "text": [
      "it's fun to stay at the ...\n",
      "Y\n",
      "M\n",
      "C\n",
      "A\n"
     ]
    }
   ],
   "source": [
    "print(\"it's fun to stay at the ...\") # keep this line for your entertainment\n",
    "\n",
    "letters = [\"y\", \"m\", \"c\", \"a\"]\n",
    "\n",
    "for l in letters:\n",
    "    print(l.upper())\n"
   ]
  },
  {
   "cell_type": "markdown",
   "id": "02437ce3",
   "metadata": {},
   "source": [
    "### 6.2 Just like the list below, by default, a longer string variables is iterable over its letters. Copy paste your loop above and adapt it for the string. Notice that it will give you the same output."
   ]
  },
  {
   "cell_type": "code",
   "execution_count": 4,
   "id": "5468431d",
   "metadata": {},
   "outputs": [
    {
     "name": "stdout",
     "output_type": "stream",
     "text": [
      "it's fun to stay at the ...\n",
      "Y\n",
      "M\n",
      "C\n",
      "A\n"
     ]
    }
   ],
   "source": [
    "print(\"it's fun to stay at the ...\") # keep this line for your entertainment\n",
    "\n",
    "my_string = \"ymca\"\n",
    "\n",
    "for l in my_string:\n",
    "    print(l.upper())"
   ]
  },
  {
   "cell_type": "markdown",
   "id": "0dc8d82a",
   "metadata": {},
   "source": [
    "## Concatenating a list of strings\n"
   ]
  },
  {
   "cell_type": "code",
   "execution_count": 5,
   "id": "cdcc1b02",
   "metadata": {},
   "outputs": [
    {
     "data": {
      "text/plain": [
       "'HelloWorld'"
      ]
     },
     "execution_count": 5,
     "metadata": {},
     "output_type": "execute_result"
    }
   ],
   "source": [
    "\"Hello\" + \"World\""
   ]
  },
  {
   "cell_type": "markdown",
   "id": "e2a45de4",
   "metadata": {},
   "source": [
    "Remember that you can concatenate two strings with `+`: `Hello` + ` World` gives you `Hello World`. How do you concatenate a number of strings in a list.\n",
    "\n",
    "### Ex 6.2: Turn the list below to a proper address line? One idea is to loop over them. But there is a nicer way. You can google it try. \n",
    "\n",
    "Hint: Don't forget to put spaces in between."
   ]
  },
  {
   "cell_type": "code",
   "execution_count": 9,
   "id": "8c4f2f78",
   "metadata": {},
   "outputs": [
    {
     "name": "stdout",
     "output_type": "stream",
     "text": [
      " Pieter de la court Wassenaarseweg 52\n"
     ]
    }
   ],
   "source": [
    "my_list = ['Pieter', 'de', 'la','court', 'Wassenaarseweg', '52']\n",
    "\n",
    "my_string= \"\"\n",
    "\n",
    "for w in my_list:\n",
    "    my_string = my_string + \" \" + w\n",
    "\n",
    "print(my_string)"
   ]
  },
  {
   "cell_type": "code",
   "execution_count": 16,
   "id": "cbacf3b5",
   "metadata": {},
   "outputs": [
    {
     "data": {
      "text/plain": [
       "'Pieter de la court Wassenaarseweg 52'"
      ]
     },
     "execution_count": 16,
     "metadata": {},
     "output_type": "execute_result"
    }
   ],
   "source": [
    "' '.join(my_list)"
   ]
  },
  {
   "cell_type": "code",
   "execution_count": 17,
   "id": "fb91407f",
   "metadata": {},
   "outputs": [
    {
     "data": {
      "text/plain": [
       "[0, 1, 4, 9, 16, 25, 36, 49, 64, 81]"
      ]
     },
     "execution_count": 17,
     "metadata": {},
     "output_type": "execute_result"
    }
   ],
   "source": [
    "[x**2 for x in range(10)]"
   ]
  },
  {
   "cell_type": "code",
   "execution_count": null,
   "id": "ba1e6304",
   "metadata": {},
   "outputs": [],
   "source": []
  }
 ],
 "metadata": {
  "kernelspec": {
   "display_name": "Python 3 (ipykernel)",
   "language": "python",
   "name": "python3"
  },
  "language_info": {
   "codemirror_mode": {
    "name": "ipython",
    "version": 3
   },
   "file_extension": ".py",
   "mimetype": "text/x-python",
   "name": "python",
   "nbconvert_exporter": "python",
   "pygments_lexer": "ipython3",
   "version": "3.10.4"
  }
 },
 "nbformat": 4,
 "nbformat_minor": 5
}
