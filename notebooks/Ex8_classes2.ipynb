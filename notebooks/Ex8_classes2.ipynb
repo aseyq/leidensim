{
 "cells": [
  {
   "cell_type": "markdown",
   "metadata": {
    "id": "wihh2C2vEwAI"
   },
   "source": [
    "\n",
    "<img src=\"https://www.saral.it/img/BasePlayer.png\"> </br>\n",
    "\n",
    "\n",
    "\n",
    "Now that we have a functioning base player, we can crate specific classes for each game.\n",
    "\n",
    "Let's load our class definition from the previous file:\n"
   ]
  },
  {
   "cell_type": "code",
   "execution_count": 1,
   "metadata": {},
   "outputs": [],
   "source": [
    "# Copy-Paste your Baseclass here"
   ]
  },
  {
   "cell_type": "markdown",
   "metadata": {},
   "source": [
    "### 7.9 Now create the `ChessPlayer`, inheriting from the base player. Add the `status` attribute to the chess player."
   ]
  },
  {
   "cell_type": "code",
   "execution_count": null,
   "metadata": {},
   "outputs": [],
   "source": []
  },
  {
   "cell_type": "markdown",
   "metadata": {},
   "source": [
    "### 7.10 Create the `BackgammonPlayer`, inheriting from the `BasePlayer`. Add the `dice` attribute roll dice `method` it."
   ]
  },
  {
   "cell_type": "code",
   "execution_count": null,
   "metadata": {},
   "outputs": [],
   "source": []
  },
  {
   "cell_type": "markdown",
   "metadata": {},
   "source": [
    "### 7.11 Create a few of each player types and see if inheritance worked properly."
   ]
  },
  {
   "cell_type": "code",
   "execution_count": null,
   "metadata": {},
   "outputs": [],
   "source": []
  }
 ],
 "metadata": {
  "colab": {
   "name": "classes2.ipynb",
   "provenance": []
  },
  "kernelspec": {
   "display_name": "Python 3 (ipykernel)",
   "language": "python",
   "name": "python3"
  },
  "language_info": {
   "codemirror_mode": {
    "name": "ipython",
    "version": 3
   },
   "file_extension": ".py",
   "mimetype": "text/x-python",
   "name": "python",
   "nbconvert_exporter": "python",
   "pygments_lexer": "ipython3",
   "version": "3.10.4"
  }
 },
 "nbformat": 4,
 "nbformat_minor": 1
}
