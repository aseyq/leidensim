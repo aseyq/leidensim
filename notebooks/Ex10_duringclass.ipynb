{
 "cells": [
  {
   "cell_type": "markdown",
   "id": "3d2302a2",
   "metadata": {},
   "source": [
    "### Ex10.1a Copy the game and the `Agent` class you've created on the prevoious excercise in th cell below. "
   ]
  },
  {
   "cell_type": "code",
   "execution_count": 84,
   "id": "c6f926af",
   "metadata": {},
   "outputs": [],
   "source": [
    "PDGAME = {('C','C'): (2, 2), ('C', 'D'): (0, 3), ('D', 'C'): (3, 0), ('D','D'): (1, 1)}\n",
    "\n",
    "import random \n",
    "\n",
    "class Agent:\n",
    "    def __init__(self, name=None, opponent=None):\n",
    "        \n",
    "        if name:\n",
    "            self.name = name            \n",
    "        else:\n",
    "            self.name = self.get_name()\n",
    "        \n",
    "        self.payoff = 0\n",
    "        \n",
    "        self.opponent = opponent\n",
    "        \n",
    "    def earn(self, points):\n",
    "        self.payoff += points\n",
    "        \n",
    "    def get_name(self):    \n",
    "        letters = \"abcdefghijklmnoprstuvwxyz\" \n",
    "        random_letters = random.choices(letters, k=5)\n",
    "        name = ''.join(random_letters)\n",
    "        return name\n",
    "    \n",
    "    def __repr__(self):\n",
    "        return f\"(N: {self.name} P: {self.payoff})\"\n",
    "    \n",
    "    \n",
    "class TitForTat(Agent):\n",
    "    def respond(self, action=None):\n",
    "        if action == 'D':\n",
    "            return 'D'\n",
    "        else:\n",
    "            return 'C'\n",
    "\n",
    "class Cooperator(Agent):    \n",
    "    def respond(self, action=None):\n",
    "        return 'C'\n",
    "    \n",
    "    \n",
    "class Defector(Agent):    \n",
    "    def respond(self, action=None):\n",
    "        return 'D'\n",
    "    \n",
    "    \n",
    "class Randomer(Agent):\n",
    "    def respond(self, action=None):\n",
    "        return random.choice(['C', 'D'])\n",
    "    "
   ]
  },
  {
   "cell_type": "code",
   "execution_count": 86,
   "id": "0dbaf14e",
   "metadata": {},
   "outputs": [
    {
     "data": {
      "text/plain": [
       "N: lrplr P: 0"
      ]
     },
     "execution_count": 86,
     "metadata": {},
     "output_type": "execute_result"
    }
   ],
   "source": [
    "a1 = Randomer()\n",
    "a1.respond('C')\n",
    "a1"
   ]
  },
  {
   "cell_type": "markdown",
   "id": "4ee12198",
   "metadata": {},
   "source": [
    "### Ex10.1b Modify `say_hi` method to `__repr__` to get a representation string. The string gives the output as follows: `N: abcd P: 0` where `abcd` is the name of the agentand `0` is the points. Create an agent and test if it works.\n",
    "\n",
    "Hint: Remember that `say_hi()` function doesn't return anything but prints a text. Instead `__repr__` function should return a string.\n"
   ]
  },
  {
   "cell_type": "markdown",
   "id": "7080d308",
   "metadata": {},
   "source": [
    "### Ex10.2 Implement the following types as separate child classes\n",
    "- Cooperator\n",
    "- Defector\n",
    "- TitForTat\n",
    "- Random (with probability $0.5$, plays 'C', with probability $0.5$, plays 'D'). \n",
    "\n",
    "Then you can delete the `respond` method from the original class."
   ]
  },
  {
   "cell_type": "markdown",
   "id": "1c73fc4e",
   "metadata": {},
   "source": [
    "### Ex10.3 It would be useful to have an attribute which tells the type of the agent. Generate a `self.typ` attribute which returns strings `\"coop\"`, `\"def\"`, `\"tft\"` or `\"rnd\"` in each child class. "
   ]
  },
  {
   "cell_type": "markdown",
   "id": "22ca422c",
   "metadata": {},
   "source": [
    "### Ex10.4 Now modify your representation string so it also prints out the type."
   ]
  },
  {
   "cell_type": "markdown",
   "id": "553a19f0",
   "metadata": {},
   "source": [
    "## A better way to combine strings and text:\n",
    "\n",
    "Python has several ways to combine text and string. One recent and superior implementations of it is called the `f-strings`. Stands for `formatted strings`. You have to indicate a string piece is an f string by putting f at the beginning of it. It works like this:"
   ]
  },
  {
   "cell_type": "code",
   "execution_count": 83,
   "id": "2249e350",
   "metadata": {},
   "outputs": [
    {
     "name": "stdout",
     "output_type": "stream",
     "text": [
      "Hi my name is Jan, I am 82 years old and I am a Secret Agent\n"
     ]
    }
   ],
   "source": [
    "name = \"Jan\"\n",
    "occupation = \"Secret Agent\"\n",
    "age = 82\n",
    "\n",
    "print(f\"Hi my name is {name}, I am {age} years old and I am a {occupation}\")"
   ]
  },
  {
   "cell_type": "markdown",
   "id": "5fda8a3d",
   "metadata": {},
   "source": [
    "Note that you don't have to convert the integer to a string anymore. Try to remove the f and you will see that the variables won't be interpreted. "
   ]
  },
  {
   "cell_type": "markdown",
   "id": "2d783442",
   "metadata": {},
   "source": [
    "### Ex10.5 Modify your representation string with the f-string format, so it is much more readable. "
   ]
  },
  {
   "cell_type": "markdown",
   "id": "00d387f0",
   "metadata": {},
   "source": [
    "### Ex10.6 Let's try to simplify things even more. `string` package contains a the letter list we need. Can we replace the whole get_name function with a one liner?\n"
   ]
  },
  {
   "cell_type": "code",
   "execution_count": null,
   "id": "0d1d0b2a",
   "metadata": {},
   "outputs": [],
   "source": [
    "import string\n",
    "print(string.ascii_lowercase)\n",
    "# try one liner here"
   ]
  },
  {
   "cell_type": "markdown",
   "id": "ec7ef5a0",
   "metadata": {},
   "source": [
    "#### Well done! That would conclude our agent representation for now. Let's move on creating a Pair. Later on we will create a whole population of agents!"
   ]
  }
 ],
 "metadata": {
  "kernelspec": {
   "display_name": "Python 3 (ipykernel)",
   "language": "python",
   "name": "python3"
  },
  "language_info": {
   "codemirror_mode": {
    "name": "ipython",
    "version": 3
   },
   "file_extension": ".py",
   "mimetype": "text/x-python",
   "name": "python",
   "nbconvert_exporter": "python",
   "pygments_lexer": "ipython3",
   "version": "3.10.4"
  }
 },
 "nbformat": 4,
 "nbformat_minor": 5
}
