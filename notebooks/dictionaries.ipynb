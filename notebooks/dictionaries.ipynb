{
 "cells": [
  {
   "cell_type": "markdown",
   "metadata": {
    "id": "aTKlifsOcC3c"
   },
   "source": [
    "# Dictionaries\n",
    "\n",
    "* Dictionaries are unordered collection of objects\n",
    "* Similar to lists\n",
    "    * In lists you get the objects by the position (index)\n",
    "    * In dictionaries you get the object by a key\n",
    "* Variable-length\n",
    "* Heterogenious types\n",
    "* Nestable\n",
    "\n"
   ]
  },
  {
   "cell_type": "markdown",
   "metadata": {
    "id": "wl1f52sPkXt8"
   },
   "source": [
    "Hello this is my file"
   ]
  },
  {
   "cell_type": "code",
   "execution_count": null,
   "metadata": {
    "colab": {
     "base_uri": "https://localhost:8080/"
    },
    "id": "QNOybiSwckDw",
    "outputId": "85f87e25-161a-4eef-ba65-f9d815000b88"
   },
   "outputs": [
    {
     "name": "stdout",
     "output_type": "stream",
     "text": [
      "{'name': 'Ali', 'age': 31}\n"
     ]
    }
   ],
   "source": [
    "my_dict = {'name': 'Ali', 'age': 31}\n",
    "print(my_dict)"
   ]
  },
  {
   "cell_type": "markdown",
   "metadata": {
    "id": "Ux_mgugXc5m2"
   },
   "source": [
    "Indexing by key"
   ]
  },
  {
   "cell_type": "code",
   "execution_count": null,
   "metadata": {
    "colab": {
     "base_uri": "https://localhost:8080/",
     "height": 34
    },
    "id": "CL4S19oicXAE",
    "outputId": "a6e8bacd-9437-44b8-f1d3-50facb1b4020"
   },
   "outputs": [
    {
     "data": {
      "text/plain": [
       "31"
      ]
     },
     "execution_count": 44,
     "metadata": {
      "tags": []
     },
     "output_type": "execute_result"
    }
   ],
   "source": [
    "my_dict['age']"
   ]
  },
  {
   "cell_type": "markdown",
   "metadata": {
    "id": "ofxIz-T0dCVj"
   },
   "source": [
    "Nestable"
   ]
  },
  {
   "cell_type": "code",
   "execution_count": null,
   "metadata": {
    "colab": {
     "base_uri": "https://localhost:8080/",
     "height": 34
    },
    "id": "WpvIYzSNdCLN",
    "outputId": "f6d3aac6-1bdf-47f5-a175-f3c32a14fda0"
   },
   "outputs": [
    {
     "name": "stdout",
     "output_type": "stream",
     "text": [
      "{'name': 'Dali', 'age': 116}\n"
     ]
    }
   ],
   "source": [
    "dali_dict = {'name': 'Dali', 'age': 116}\n",
    "\n",
    "print(dali_dict)\n",
    "\n",
    "people = {'ali': my_dict, 'dali': dali_dict}"
   ]
  },
  {
   "cell_type": "code",
   "execution_count": null,
   "metadata": {
    "colab": {
     "base_uri": "https://localhost:8080/",
     "height": 34
    },
    "id": "aoA8KLn8dBSK",
    "outputId": "d3e646dc-057b-45ae-baea-8103ca530aad"
   },
   "outputs": [
    {
     "data": {
      "text/plain": [
       "{'ali': {'age': 31, 'name': 'Ali'}, 'dali': {'age': 116, 'name': 'Dali'}}"
      ]
     },
     "execution_count": 48,
     "metadata": {
      "tags": []
     },
     "output_type": "execute_result"
    }
   ],
   "source": [
    "people"
   ]
  },
  {
   "cell_type": "code",
   "execution_count": null,
   "metadata": {
    "colab": {
     "base_uri": "https://localhost:8080/",
     "height": 34
    },
    "id": "OZ-0B5RKcNuI",
    "outputId": "955f990c-bba4-4e7a-f3c1-705f02491f4f"
   },
   "outputs": [
    {
     "data": {
      "text/plain": [
       "{'age': 116, 'name': 'Dali'}"
      ]
     },
     "execution_count": 49,
     "metadata": {
      "tags": []
     },
     "output_type": "execute_result"
    }
   ],
   "source": [
    "people['dali']"
   ]
  },
  {
   "cell_type": "code",
   "execution_count": null,
   "metadata": {
    "colab": {
     "base_uri": "https://localhost:8080/",
     "height": 34
    },
    "id": "e4xWSmgvdrue",
    "outputId": "35ef76ea-2a35-471a-e27b-d7a7685f2940"
   },
   "outputs": [
    {
     "data": {
      "text/plain": [
       "116"
      ]
     },
     "execution_count": 51,
     "metadata": {
      "tags": []
     },
     "output_type": "execute_result"
    }
   ],
   "source": [
    "people['dali']['age']"
   ]
  },
  {
   "cell_type": "markdown",
   "metadata": {
    "id": "qiSvqTBQdyM7"
   },
   "source": [
    "Membership testing is similar to lists"
   ]
  },
  {
   "cell_type": "code",
   "execution_count": null,
   "metadata": {
    "colab": {
     "base_uri": "https://localhost:8080/",
     "height": 34
    },
    "id": "Zg-vW68bdt77",
    "outputId": "508a42d9-9fea-49b1-f017-790854795bb3"
   },
   "outputs": [
    {
     "data": {
      "text/plain": [
       "True"
      ]
     },
     "execution_count": 52,
     "metadata": {
      "tags": []
     },
     "output_type": "execute_result"
    }
   ],
   "source": [
    "'dali' in people"
   ]
  },
  {
   "cell_type": "code",
   "execution_count": null,
   "metadata": {
    "colab": {
     "base_uri": "https://localhost:8080/",
     "height": 34
    },
    "id": "ZROGnXdSd2Eb",
    "outputId": "e3b9db34-2821-4096-8efd-283e0aedcf99"
   },
   "outputs": [
    {
     "data": {
      "text/plain": [
       "False"
      ]
     },
     "execution_count": 53,
     "metadata": {
      "tags": []
     },
     "output_type": "execute_result"
    }
   ],
   "source": [
    "'monet' in people"
   ]
  },
  {
   "cell_type": "markdown",
   "metadata": {
    "id": "aMOV7BsueAW6"
   },
   "source": [
    "Getting the keys amd the values separately"
   ]
  },
  {
   "cell_type": "code",
   "execution_count": null,
   "metadata": {
    "colab": {
     "base_uri": "https://localhost:8080/",
     "height": 34
    },
    "id": "JhjzK0L7d6HH",
    "outputId": "d96c476f-d411-4f3c-9ce9-55ae19c42bc5"
   },
   "outputs": [
    {
     "data": {
      "text/plain": [
       "dict_values(['Dali', 116])"
      ]
     },
     "execution_count": 57,
     "metadata": {
      "tags": []
     },
     "output_type": "execute_result"
    }
   ],
   "source": [
    "dali_dict.values()"
   ]
  },
  {
   "cell_type": "code",
   "execution_count": null,
   "metadata": {
    "colab": {
     "base_uri": "https://localhost:8080/",
     "height": 34
    },
    "id": "ueRvImTPl_bj",
    "outputId": "a86d034a-88af-4713-915e-4de1b6a98ec5"
   },
   "outputs": [
    {
     "data": {
      "text/plain": [
       "{'age': 31, 'name': 'Ali'}"
      ]
     },
     "execution_count": 59,
     "metadata": {
      "tags": []
     },
     "output_type": "execute_result"
    }
   ],
   "source": [
    "my_dict"
   ]
  },
  {
   "cell_type": "markdown",
   "metadata": {
    "id": "vuU5i9CPegiB"
   },
   "source": [
    "You can loop over dictionaries in two ways:\n",
    "    * loop over keys\n",
    "    * loop over key,value pairs\n"
   ]
  },
  {
   "cell_type": "code",
   "execution_count": null,
   "metadata": {
    "colab": {
     "base_uri": "https://localhost:8080/",
     "height": 52
    },
    "id": "bKWDI0uoeHeA",
    "outputId": "e6c4e186-daa3-4fb5-86a1-65e2f27bf82a"
   },
   "outputs": [
    {
     "name": "stdout",
     "output_type": "stream",
     "text": [
      "The value for the key name is Ali\n",
      "The value for the key age is 31\n"
     ]
    }
   ],
   "source": [
    "for k in my_dict:\n",
    "  print(\"The value for the key \" + str(k) + \" is \" + str(my_dict[k]))"
   ]
  },
  {
   "cell_type": "markdown",
   "metadata": {
    "id": "WLbpsv6zgBAL"
   },
   "source": [
    "or "
   ]
  },
  {
   "cell_type": "code",
   "execution_count": null,
   "metadata": {
    "colab": {
     "base_uri": "https://localhost:8080/",
     "height": 52
    },
    "id": "jF4GVzxQgK3E",
    "outputId": "322930f8-27e5-42ba-86eb-993fc2c9104e"
   },
   "outputs": [
    {
     "name": "stdout",
     "output_type": "stream",
     "text": [
      "name Ali\n",
      "age 31\n"
     ]
    }
   ],
   "source": [
    "for k,v in my_dict.items():\n",
    "  print(k,v)"
   ]
  },
  {
   "cell_type": "markdown",
   "metadata": {
    "id": "kKM0RfTUe92w"
   },
   "source": [
    "Nested loops are also possible"
   ]
  },
  {
   "cell_type": "code",
   "execution_count": null,
   "metadata": {
    "colab": {
     "base_uri": "https://localhost:8080/",
     "height": 34
    },
    "id": "mui1Ad8se9hv",
    "outputId": "bd31b8e1-43ea-4a3b-c5a4-d314fd2fd4f8"
   },
   "outputs": [
    {
     "name": "stdout",
     "output_type": "stream",
     "text": [
      "{'ali': {'name': 'Ali', 'age': 31}, 'dali': {'name': 'Dali', 'age': 116}}\n"
     ]
    }
   ],
   "source": [
    "print(people)"
   ]
  },
  {
   "cell_type": "code",
   "execution_count": null,
   "metadata": {
    "colab": {
     "base_uri": "https://localhost:8080/",
     "height": 121
    },
    "id": "hZPASbzSeXNx",
    "outputId": "0f62f72f-ac19-45e4-e356-31ce7a3e8cc7"
   },
   "outputs": [
    {
     "name": "stdout",
     "output_type": "stream",
     "text": [
      "name Ali\n",
      "age 31\n",
      "--\n",
      "name Dali\n",
      "age 116\n",
      "--\n"
     ]
    }
   ],
   "source": [
    "for k,v in people.items():\n",
    "  for l,w in people[k].items():\n",
    "    print(l,w)\n",
    "  print(\"--\")\n",
    "  "
   ]
  },
  {
   "cell_type": "markdown",
   "metadata": {
    "id": "e1WRRH3yg4y2"
   },
   "source": [
    "Adding keys, or changing key values"
   ]
  },
  {
   "cell_type": "code",
   "execution_count": null,
   "metadata": {
    "id": "Ug57ke2cfQ1c"
   },
   "outputs": [],
   "source": [
    "my_dict['occupation'] = 'lab manager'"
   ]
  },
  {
   "cell_type": "code",
   "execution_count": null,
   "metadata": {
    "colab": {
     "base_uri": "https://localhost:8080/",
     "height": 34
    },
    "id": "FXMOWKzChDFq",
    "outputId": "10df445a-e0cd-4214-8f6d-b6db376b40fb"
   },
   "outputs": [
    {
     "data": {
      "text/plain": [
       "{'age': 31, 'name': 'Ali', 'occupation': 'lab manager'}"
      ]
     },
     "execution_count": 66,
     "metadata": {
      "tags": []
     },
     "output_type": "execute_result"
    }
   ],
   "source": [
    "my_dict"
   ]
  },
  {
   "cell_type": "code",
   "execution_count": null,
   "metadata": {
    "id": "QPXzITsNhD23"
   },
   "outputs": [],
   "source": [
    "my_dict['age']= 32"
   ]
  },
  {
   "cell_type": "code",
   "execution_count": null,
   "metadata": {
    "colab": {
     "base_uri": "https://localhost:8080/",
     "height": 34
    },
    "id": "F3sajuirhLK3",
    "outputId": "d26a3d00-5d69-42d0-e582-c236b8ed72ef"
   },
   "outputs": [
    {
     "data": {
      "text/plain": [
       "{'age': 32, 'name': 'Ali', 'occupation': 'lab manager'}"
      ]
     },
     "execution_count": 68,
     "metadata": {
      "tags": []
     },
     "output_type": "execute_result"
    }
   ],
   "source": [
    "my_dict"
   ]
  },
  {
   "cell_type": "code",
   "execution_count": null,
   "metadata": {
    "colab": {
     "base_uri": "https://localhost:8080/",
     "height": 34
    },
    "id": "fRx6uhvLhNH0",
    "outputId": "1a09d0f7-aa78-4cc6-8c8d-da60d7ac5d67"
   },
   "outputs": [
    {
     "data": {
      "text/plain": [
       "32"
      ]
     },
     "execution_count": 69,
     "metadata": {
      "tags": []
     },
     "output_type": "execute_result"
    }
   ],
   "source": [
    "my_dict.pop('age')"
   ]
  },
  {
   "cell_type": "code",
   "execution_count": null,
   "metadata": {
    "colab": {
     "base_uri": "https://localhost:8080/",
     "height": 34
    },
    "id": "MymXDDiioFoA",
    "outputId": "77898a08-b871-409c-f2f0-13286a7b7ddf"
   },
   "outputs": [
    {
     "data": {
      "text/plain": [
       "{'name': 'Ali', 'occupation': 'lab manager'}"
      ]
     },
     "execution_count": 70,
     "metadata": {
      "tags": []
     },
     "output_type": "execute_result"
    }
   ],
   "source": [
    "my_dict"
   ]
  },
  {
   "cell_type": "code",
   "execution_count": null,
   "metadata": {
    "id": "fT6PCwGooG48"
   },
   "outputs": [],
   "source": []
  }
 ],
 "metadata": {
  "colab": {
   "name": "dictionaries.ipynb",
   "provenance": []
  },
  "kernelspec": {
   "display_name": "Python 3 (ipykernel)",
   "language": "python",
   "name": "python3"
  },
  "language_info": {
   "codemirror_mode": {
    "name": "ipython",
    "version": 3
   },
   "file_extension": ".py",
   "mimetype": "text/x-python",
   "name": "python",
   "nbconvert_exporter": "python",
   "pygments_lexer": "ipython3",
   "version": "3.10.4"
  }
 },
 "nbformat": 4,
 "nbformat_minor": 1
}
