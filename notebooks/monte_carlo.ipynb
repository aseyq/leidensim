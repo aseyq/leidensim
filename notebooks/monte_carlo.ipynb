{
 "cells": [
  {
   "cell_type": "markdown",
   "id": "b78fa36c",
   "metadata": {},
   "source": [
    "# Estimating Pi Value using Monte Carlo Simulation"
   ]
  },
  {
   "cell_type": "code",
   "execution_count": 1,
   "id": "e2121f47",
   "metadata": {},
   "outputs": [],
   "source": [
    "import matplotlib.pyplot as plt\n",
    "import math\n",
    "\n",
    "def add_point(x, y):   \n",
    "    ax.scatter(x, y)\n",
    "    \n",
    "def set_circle_plot():\n",
    "    global fig\n",
    "    global ax\n",
    "    fig, ax = plt.subplots()\n",
    "    ax.set(xlim=(-1, 1), ylim=(-1, 1))\n",
    "    ax.set_aspect('equal')\n",
    "    \n",
    "    cir = plt.Circle((0, 0), 1, color='r',fill=False)\n",
    "    ax.add_patch(cir)\n",
    "    plt.close()\n",
    "    \n",
    "def show_circle_plot():\n",
    "    return fig\n",
    "\n",
    "\n",
    "def create_estimation_plot(pi_estimations):\n",
    "    plt.plot(pi_estimations)\n",
    "    plt.axhline(y=math.pi, color='r', linestyle='--')\n",
    "    plt.xlabel(\"Number of trials\")\n",
    "    plt.ylabel(\"Pi estimation\")\n",
    "    plt.ylim(0,5)\n"
   ]
  },
  {
   "cell_type": "markdown",
   "id": "ffc82798",
   "metadata": {},
   "source": [
    "## Ex 1. Get a random x point and random y point between -1, +1\n"
   ]
  },
  {
   "cell_type": "code",
   "execution_count": 2,
   "id": "611920d2",
   "metadata": {},
   "outputs": [
    {
     "name": "stdout",
     "output_type": "stream",
     "text": [
      "-0.8997533198672112 0.8177099055510144\n"
     ]
    }
   ],
   "source": [
    "import random\n",
    "random_x = random.uniform(-1,1)\n",
    "randdom_y = random.uniform(-1,1)\n",
    "print(random_x,random_y)"
   ]
  },
  {
   "cell_type": "markdown",
   "id": "11d993a0",
   "metadata": {},
   "source": [
    "### Ex 2. Create a function takes an x and a y value and calculates the distance from the origin"
   ]
  },
  {
   "cell_type": "code",
   "execution_count": 3,
   "id": "0f483b92",
   "metadata": {},
   "outputs": [],
   "source": [
    "def distance_from_origin(x,y):\n",
    "    distance = \n",
    "    return distance"
   ]
  },
  {
   "cell_type": "markdown",
   "id": "213cfda6",
   "metadata": {},
   "source": [
    "### Ex 3. Create a function that checks whether the random number is in the square"
   ]
  },
  {
   "cell_type": "code",
   "execution_count": 5,
   "id": "5880b9dd",
   "metadata": {},
   "outputs": [],
   "source": [
    "def is_in_circle(x,y):\n"
   ]
  },
  {
   "cell_type": "code",
   "execution_count": 2,
   "id": "7e7b8087",
   "metadata": {},
   "outputs": [],
   "source": [
    "### Ex 4. Create an empty list below the code"
   ]
  },
  {
   "cell_type": "code",
   "execution_count": 7,
   "id": "e550dbfb",
   "metadata": {},
   "outputs": [],
   "source": [
    "set_circle_plot()\n",
    "\n",
    "# create an empty list\n",
    "results = []"
   ]
  },
  {
   "cell_type": "code",
   "execution_count": 8,
   "id": "b73d142d",
   "metadata": {},
   "outputs": [
    {
     "name": "stdout",
     "output_type": "stream",
     "text": [
      "0.6466352310895693 -0.7123439776993181 1\n"
     ]
    }
   ],
   "source": [
    "random_x = random.uniform(-1,1)\n",
    "random_y = random.uniform(-1,1)\n",
    "in_or_not = is_in_circle(random_x, random_y)\n",
    "\n",
    "results.append(in_or_not)\n",
    "\n",
    "print(random_x, random_y, in_or_not)\n",
    "add_point(random_x, random_y)"
   ]
  },
  {
   "cell_type": "code",
   "execution_count": 9,
   "id": "26f07674",
   "metadata": {},
   "outputs": [
    {
     "data": {
      "image/png": "[encoded data removed]",
      "text/plain": [
       "<Figure size 432x288 with 1 Axes>"
      ]
     },
     "execution_count": 9,
     "metadata": {},
     "output_type": "execute_result"
    }
   ],
   "source": [
    "show_circle_plot()"
   ]
  },
  {
   "cell_type": "code",
   "execution_count": 10,
   "id": "da06a427",
   "metadata": {},
   "outputs": [],
   "source": [
    "# results"
   ]
  },
  {
   "cell_type": "code",
   "execution_count": 11,
   "id": "6e86663d",
   "metadata": {},
   "outputs": [
    {
     "name": "stdout",
     "output_type": "stream",
     "text": [
      "4.0\n"
     ]
    }
   ],
   "source": [
    "average = sum(results) / len(results)\n",
    "print(4 * average)"
   ]
  },
  {
   "cell_type": "code",
   "execution_count": 54,
   "id": "54b856ef",
   "metadata": {},
   "outputs": [],
   "source": [
    "results = []\n",
    "pi_estimations = []\n",
    "\n",
    "for i in range(1000):\n",
    "    random_x = random.uniform(-1,1)\n",
    "    \n",
    "    random_y = random.uniform(-1,1)\n",
    "    \n",
    "    in_or_not = is_in_circle(random_x, random_y)\n",
    "\n",
    "    results.append(in_or_not)\n",
    "    current_estimation = 4 * sum(results) / len(results)\n",
    "    pi_estimations.append(current_estimation)"
   ]
  },
  {
   "cell_type": "code",
   "execution_count": 55,
   "id": "545ae630",
   "metadata": {},
   "outputs": [],
   "source": [
    "#print(pi_estimations)"
   ]
  },
  {
   "cell_type": "code",
   "execution_count": 56,
   "id": "318a592b",
   "metadata": {},
   "outputs": [
    {
     "name": "stdout",
     "output_type": "stream",
     "text": [
      "number of iterations: 1000\n",
      "real pi:  3.141592653589793\n",
      "estimated:  3.124\n",
      "difference: 0.017592653589793006\n"
     ]
    }
   ],
   "source": [
    "print(\"number of iterations:\", len(pi_estimations))\n",
    "print(\"real pi: \", math.pi)\n",
    "print(\"estimated: \", pi_estimations[-1])\n",
    "print(\"difference:\", abs(math.pi - pi_estimations[-1]))"
   ]
  },
  {
   "cell_type": "code",
   "execution_count": 57,
   "id": "63d42601",
   "metadata": {},
   "outputs": [
    {
     "data": {
      "image/png": "[encoded data removed]",
      "text/plain": [
       "<Figure size 432x288 with 1 Axes>"
      ]
     },
     "metadata": {
      "needs_background": "light"
     },
     "output_type": "display_data"
    }
   ],
   "source": [
    "create_estimation_plot(pi_estimations)"
   ]
  },
  {
   "cell_type": "code",
   "execution_count": null,
   "id": "f2921672",
   "metadata": {},
   "outputs": [],
   "source": []
  }
 ],
 "metadata": {
  "kernelspec": {
   "display_name": "Python 3 (ipykernel)",
   "language": "python",
   "name": "python3"
  },
  "language_info": {
   "codemirror_mode": {
    "name": "ipython",
    "version": 3
   },
   "file_extension": ".py",
   "mimetype": "text/x-python",
   "name": "python",
   "nbconvert_exporter": "python",
   "pygments_lexer": "ipython3",
   "version": "3.10.4"
  }
 },
 "nbformat": 4,
 "nbformat_minor": 5
}
