{
 "cells": [
  {
   "cell_type": "markdown",
   "id": "7def5854",
   "metadata": {},
   "source": [
    "# Excercise Set 3\n",
    "## Lists\n"
   ]
  },
  {
   "cell_type": "markdown",
   "id": "56c63d13",
   "metadata": {},
   "source": [
    "Below there are two lists related to the people who were  born in June. One containing the names of the people, and their birthyears."
   ]
  },
  {
   "cell_type": "code",
   "execution_count": 4,
   "id": "3ae89f07",
   "metadata": {},
   "outputs": [],
   "source": [
    "names = [\"Morgan Freeman\", \"Audrey Hepburn\", \"Freddie Mercury\", \"Ada Lovelace\"]\n",
    "years = [1937, 1929, 1946, 1815]"
   ]
  },
  {
   "cell_type": "markdown",
   "id": "d1ed3959",
   "metadata": {},
   "source": [
    "### Ex 3.1 Find the index of Freddie Mercury and gather the year in which he was born."
   ]
  },
  {
   "cell_type": "code",
   "execution_count": null,
   "id": "28a9443e",
   "metadata": {},
   "outputs": [],
   "source": []
  },
  {
   "cell_type": "markdown",
   "id": "9a1fe4cd",
   "metadata": {},
   "source": [
    "### Ex 3.2 Subset Morgan Freeman and Audrey Hepburn and assign it to a variable called `actors`"
   ]
  },
  {
   "cell_type": "code",
   "execution_count": null,
   "id": "9ed30fee",
   "metadata": {},
   "outputs": [],
   "source": []
  },
  {
   "cell_type": "markdown",
   "id": "5f230aaf",
   "metadata": {},
   "source": [
    "### Ex 3.3 Remove Freddie Mercury out of the list"
   ]
  },
  {
   "cell_type": "code",
   "execution_count": null,
   "id": "4e8482a0",
   "metadata": {},
   "outputs": [],
   "source": []
  },
  {
   "cell_type": "markdown",
   "id": "fe5f8666",
   "metadata": {},
   "source": [
    "### Ex 3.4 Remove Morgan Freeman but this time try to assign the function to a variable. See what happens to the list and to the variable."
   ]
  },
  {
   "cell_type": "code",
   "execution_count": null,
   "id": "7c9302cc",
   "metadata": {},
   "outputs": [],
   "source": []
  },
  {
   "cell_type": "markdown",
   "id": "8cf7812b",
   "metadata": {},
   "source": [
    "### Ex 3.5 Add the new list to the actors list you've created"
   ]
  },
  {
   "cell_type": "code",
   "execution_count": 5,
   "id": "f9237f1a",
   "metadata": {},
   "outputs": [],
   "source": [
    "actors2=[\"Matthew Mcconaughey\", \"Marion Cotillard\"]\n",
    "years2 = [1969, 1975]"
   ]
  },
  {
   "cell_type": "markdown",
   "id": "44840e52",
   "metadata": {},
   "source": [
    "### Ex 3.6 Loop over the values of your actors list. Print out current ages of actors."
   ]
  },
  {
   "cell_type": "code",
   "execution_count": null,
   "id": "03fbac9d",
   "metadata": {},
   "outputs": [],
   "source": []
  },
  {
   "cell_type": "markdown",
   "id": "42bb19d9",
   "metadata": {},
   "source": [
    "### Ex 3.6 Loop over the values of your actors list. Print out current ages of actors."
   ]
  },
  {
   "cell_type": "code",
   "execution_count": null,
   "id": "7386b703",
   "metadata": {},
   "outputs": [],
   "source": []
  }
 ],
 "metadata": {
  "kernelspec": {
   "display_name": "Python 3 (ipykernel)",
   "language": "python",
   "name": "python3"
  },
  "language_info": {
   "codemirror_mode": {
    "name": "ipython",
    "version": 3
   },
   "file_extension": ".py",
   "mimetype": "text/x-python",
   "name": "python",
   "nbconvert_exporter": "python",
   "pygments_lexer": "ipython3",
   "version": "3.10.4"
  }
 },
 "nbformat": 4,
 "nbformat_minor": 5
}
