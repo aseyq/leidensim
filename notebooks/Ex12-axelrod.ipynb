{
 "cells": [
  {
   "cell_type": "markdown",
   "id": "d309a9f3",
   "metadata": {},
   "source": [
    "# Axelrod"
   ]
  },
  {
   "cell_type": "markdown",
   "id": "7e5548e4",
   "metadata": {},
   "source": [
    "#### Axelrod is a module designed for Prisoner's Dilemma Tournaments. See the documentation [here](https://axelrod.readthedocs.io/en/stable/)"
   ]
  },
  {
   "cell_type": "markdown",
   "id": "8850d317",
   "metadata": {},
   "source": [
    "#### You have to axelrod before using it"
   ]
  },
  {
   "cell_type": "code",
   "execution_count": null,
   "id": "de582cf0",
   "metadata": {},
   "outputs": [],
   "source": [
    "# pip install axelrod"
   ]
  },
  {
   "cell_type": "code",
   "execution_count": null,
   "id": "a1c7e969",
   "metadata": {},
   "outputs": [],
   "source": [
    "import axelrod as axl"
   ]
  },
  {
   "cell_type": "markdown",
   "id": "5d0863e3",
   "metadata": {},
   "source": [
    "#### Create players with certain types. Refer to the huge list of types here if you're curious: https://axelrod.readthedocs.io/en/stable/reference/strategy_index.html"
   ]
  },
  {
   "cell_type": "code",
   "execution_count": null,
   "id": "fc3ea248",
   "metadata": {},
   "outputs": [],
   "source": [
    "players = [axl.Cooperator(), axl.Alternator()]"
   ]
  },
  {
   "cell_type": "markdown",
   "id": "edc76b3d",
   "metadata": {},
   "source": [
    "#### Match them for 9 rounds of the game"
   ]
  },
  {
   "cell_type": "code",
   "execution_count": null,
   "id": "2af2a4f7",
   "metadata": {},
   "outputs": [],
   "source": [
    "match = axl.Match(players, 9, noise=0.3)\n",
    "match.play()"
   ]
  },
  {
   "cell_type": "markdown",
   "id": "de9427ed",
   "metadata": {},
   "source": [
    "### See the results"
   ]
  },
  {
   "cell_type": "code",
   "execution_count": null,
   "id": "b93648ec",
   "metadata": {},
   "outputs": [],
   "source": [
    "match.result"
   ]
  },
  {
   "cell_type": "markdown",
   "id": "78c6a689",
   "metadata": {},
   "source": [
    "### You can also view the results in a fancy way:"
   ]
  },
  {
   "cell_type": "code",
   "execution_count": null,
   "id": "b3311a13",
   "metadata": {},
   "outputs": [],
   "source": [
    "print(match.sparklines())"
   ]
  },
  {
   "cell_type": "markdown",
   "id": "5732e220",
   "metadata": {},
   "source": [
    "### See the scores"
   ]
  },
  {
   "cell_type": "code",
   "execution_count": null,
   "id": "d8795434",
   "metadata": {},
   "outputs": [],
   "source": [
    "match.scores()"
   ]
  },
  {
   "cell_type": "code",
   "execution_count": null,
   "id": "aced23a2",
   "metadata": {},
   "outputs": [],
   "source": [
    "match.final_score()"
   ]
  },
  {
   "cell_type": "code",
   "execution_count": null,
   "id": "5bca825b",
   "metadata": {},
   "outputs": [],
   "source": [
    "match.final_score_per_turn()"
   ]
  },
  {
   "cell_type": "markdown",
   "id": "a4ba9acc",
   "metadata": {},
   "source": [
    "#### See the winners"
   ]
  },
  {
   "cell_type": "code",
   "execution_count": null,
   "id": "41a7d259",
   "metadata": {},
   "outputs": [],
   "source": [
    "match.winner()"
   ]
  },
  {
   "cell_type": "markdown",
   "id": "775e0025",
   "metadata": {},
   "source": [
    "#### See Cooperation rates"
   ]
  },
  {
   "cell_type": "code",
   "execution_count": null,
   "id": "412cb56a",
   "metadata": {},
   "outputs": [],
   "source": [
    "match.cooperation()"
   ]
  },
  {
   "cell_type": "code",
   "execution_count": null,
   "id": "6c60a5ab",
   "metadata": {},
   "outputs": [],
   "source": [
    "match.normalised_cooperation()"
   ]
  },
  {
   "cell_type": "markdown",
   "id": "2d5c8717",
   "metadata": {},
   "source": [
    "## Tournaments"
   ]
  },
  {
   "cell_type": "markdown",
   "id": "6f195bdc",
   "metadata": {},
   "source": [
    "#### You can also tournaments like Axelrod's original tournaments (wow, what a surprise!)"
   ]
  },
  {
   "cell_type": "code",
   "execution_count": null,
   "id": "76c9e0a9",
   "metadata": {},
   "outputs": [],
   "source": [
    "tournament_players = [axl.Cooperator(), axl.Defector(),\n",
    "                      axl.TitForTat(), axl.Grudger()]\n"
   ]
  },
  {
   "cell_type": "code",
   "execution_count": null,
   "id": "27c43f65",
   "metadata": {},
   "outputs": [],
   "source": [
    "tournament = axl.Tournament(tournament_players)\n",
    "tournament_results = tournament.play()\n",
    "tournament_results.ranked_names"
   ]
  },
  {
   "cell_type": "markdown",
   "id": "e1c52401",
   "metadata": {},
   "source": [
    "### Axelrod implements plotting options as well"
   ]
  },
  {
   "cell_type": "code",
   "execution_count": null,
   "id": "6a71563a",
   "metadata": {},
   "outputs": [],
   "source": [
    "plot = axl.Plot(tournament_results)\n",
    "p = plot.boxplot()"
   ]
  },
  {
   "cell_type": "code",
   "execution_count": null,
   "id": "c7874e8d",
   "metadata": {},
   "outputs": [],
   "source": [
    "summary = tournament_results.summarise()\n",
    "import pprint"
   ]
  },
  {
   "cell_type": "code",
   "execution_count": null,
   "id": "8029e544",
   "metadata": {},
   "outputs": [],
   "source": [
    "tournament_results.write_summary('summary.csv')"
   ]
  },
  {
   "cell_type": "code",
   "execution_count": null,
   "id": "32e78062",
   "metadata": {},
   "outputs": [],
   "source": [
    "p = plot.payoff()"
   ]
  },
  {
   "cell_type": "markdown",
   "id": "309c803f",
   "metadata": {},
   "source": [
    "## Moran Process"
   ]
  },
  {
   "cell_type": "code",
   "execution_count": null,
   "id": "18f2c654",
   "metadata": {},
   "outputs": [],
   "source": [
    "players = (axl.Cooperator(), axl.Defector(),\n",
    "           axl.TitForTat())\n",
    "mp = axl.MoranProcess(players, seed=1)\n",
    "populations = mp.play()\n",
    "mp.winning_strategy_name\n",
    "ax = mp.populations_plot()"
   ]
  },
  {
   "cell_type": "markdown",
   "id": "92a5abc6",
   "metadata": {},
   "source": [
    "### \"Replicating\" Axelrod's first tournament"
   ]
  },
  {
   "cell_type": "code",
   "execution_count": null,
   "id": "77263b47",
   "metadata": {},
   "outputs": [],
   "source": [
    "first_tournament= [ \n",
    "    axl.TitForTat(),\n",
    "    axl.FirstByTidemanAndChieruzzi(),\n",
    "    axl.FirstByNydegger(),\n",
    "    axl.FirstByGrofman(),\n",
    "    axl.FirstByShubik(),\n",
    "    axl.FirstBySteinAndRapoport(),\n",
    "    axl.Grudger(),\n",
    "    axl.FirstByDavis(),\n",
    "    axl.FirstByGraaskamp(),\n",
    "    axl.FirstByFeld(),\n",
    "    axl.FirstByJoss(),\n",
    "    axl.FirstByTullock(),\n",
    "    axl.Random()\n",
    "]\n",
    "\n"
   ]
  },
  {
   "cell_type": "code",
   "execution_count": null,
   "id": "1f8dcb1c",
   "metadata": {},
   "outputs": [],
   "source": [
    "tournament = axl.Tournament(\n",
    "    players=first_tournament,\n",
    "    turns=200)\n",
    "tournament_results = tournament.play()\n"
   ]
  },
  {
   "cell_type": "code",
   "execution_count": null,
   "id": "e386db80",
   "metadata": {},
   "outputs": [],
   "source": [
    "tournament_results.ranked_names"
   ]
  },
  {
   "cell_type": "code",
   "execution_count": null,
   "id": "d9ff1167",
   "metadata": {},
   "outputs": [],
   "source": [
    "plot = axl.Plot(tournament_results)\n",
    "p = plot.boxplot()"
   ]
  },
  {
   "cell_type": "markdown",
   "id": "b4c757d3",
   "metadata": {},
   "source": [
    "See this blog post: https://vknight.org/blog/posts/reproducing-axelrods-first-tournament/"
   ]
  },
  {
   "cell_type": "code",
   "execution_count": null,
   "id": "4c2c0ad0",
   "metadata": {},
   "outputs": [],
   "source": []
  }
 ],
 "metadata": {
  "kernelspec": {
   "display_name": "Python 3 (ipykernel)",
   "language": "python",
   "name": "python3"
  },
  "language_info": {
   "codemirror_mode": {
    "name": "ipython",
    "version": 3
   },
   "file_extension": ".py",
   "mimetype": "text/x-python",
   "name": "python",
   "nbconvert_exporter": "python",
   "pygments_lexer": "ipython3",
   "version": "3.10.4"
  }
 },
 "nbformat": 4,
 "nbformat_minor": 5
}
