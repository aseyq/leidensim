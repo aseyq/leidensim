{
 "cells": [
  {
   "cell_type": "markdown",
   "id": "b78fa36c",
   "metadata": {},
   "source": [
    "# Estimating Pi Value using Monte Carlo Simulation"
   ]
  },
  {
   "cell_type": "markdown",
   "id": "2b04101f",
   "metadata": {},
   "source": [
    "Below there are some functions for your convenience. You dont have to understand them. Just execute the code."
   ]
  },
  {
   "cell_type": "code",
   "execution_count": 2,
   "id": "e2121f47",
   "metadata": {},
   "outputs": [],
   "source": [
    "import matplotlib.pyplot as plt\n",
    "import math\n",
    "\n",
    "def add_point(x, y):   \n",
    "    ax.scatter(x, y)\n",
    "    \n",
    "def set_circle_plot():\n",
    "    global fig\n",
    "    global ax\n",
    "    fig, ax = plt.subplots()\n",
    "    ax.set(xlim=(-1, 1), ylim=(-1, 1))\n",
    "    ax.set_aspect('equal')\n",
    "    \n",
    "    cir = plt.Circle((0, 0), 1, color='r',fill=False)\n",
    "    ax.add_patch(cir)\n",
    "    plt.close()\n",
    "    \n",
    "def show_circle_plot():\n",
    "    return fig\n",
    "\n",
    "\n",
    "def create_estimation_plot(pi_estimations):\n",
    "    plt.plot(pi_estimations)\n",
    "    plt.axhline(y=math.pi, color='r', linestyle='--')\n",
    "    plt.xlabel(\"Number of trials\")\n",
    "    plt.ylabel(\"Pi estimation\")\n",
    "    plt.ylim(0,5)\n"
   ]
  },
  {
   "cell_type": "markdown",
   "id": "ffc82798",
   "metadata": {},
   "source": [
    "## Ex 1. Get a random x point and random y point between -1, +1"
   ]
  },
  {
   "cell_type": "markdown",
   "id": "9ace5ec8",
   "metadata": {},
   "source": [
    "You can google on how to get a uniformly distributed random number"
   ]
  },
  {
   "cell_type": "code",
   "execution_count": 3,
   "id": "611920d2",
   "metadata": {},
   "outputs": [
    {
     "name": "stdout",
     "output_type": "stream",
     "text": [
      "0.8410143971665314 0.09325149283291734\n"
     ]
    }
   ],
   "source": [
    "import random\n",
    "random_x = random.uniform(-1,1)\n",
    "random_y = random.uniform(-1,1)\n",
    "print(random_x,random_y)"
   ]
  },
  {
   "cell_type": "markdown",
   "id": "11d993a0",
   "metadata": {},
   "source": [
    "### Ex 2. Create a function takes an x and a y value and calculates the distance from the origin"
   ]
  },
  {
   "cell_type": "code",
   "execution_count": 4,
   "id": "0f483b92",
   "metadata": {},
   "outputs": [],
   "source": [
    "def distance_from_origin(x,y):\n",
    "    distance = math.sqrt(x**2 + y**2)\n",
    "    return distance"
   ]
  },
  {
   "cell_type": "markdown",
   "id": "213cfda6",
   "metadata": {},
   "source": [
    "### Ex 3. Create a function that checks whether the random number is in the square"
   ]
  },
  {
   "cell_type": "code",
   "execution_count": 9,
   "id": "5880b9dd",
   "metadata": {},
   "outputs": [],
   "source": [
    "def is_in_circle(x,y):\n",
    "    distance = distance_from_origin(x,y)\n",
    "    if distance < 1:\n",
    "        return 1\n",
    "    \n",
    "    if distance > 1:\n",
    "        return 0"
   ]
  },
  {
   "cell_type": "markdown",
   "id": "a1a21792",
   "metadata": {},
   "source": [
    "### Ex 4. Create an empty list called `results`. Then regenerate a random number and add it to results list."
   ]
  },
  {
   "cell_type": "code",
   "execution_count": 51,
   "id": "e550dbfb",
   "metadata": {},
   "outputs": [],
   "source": [
    "# create empty lists\n",
    "results = []\n",
    "pi_estimations = []\n",
    "\n",
    "set_circle_plot() # setting up the plot. \n",
    "\n",
    "# run it 100 times\n",
    "for i in range(10):\n",
    "    random_x = random.uniform(-1,1)\n",
    "    random_y = random.uniform(-1,1)\n",
    "    add_point(random_x, random_y) # adding the point to the circle plot\n",
    "    in_circle = is_in_circle(random_x, random_y)\n",
    "\n",
    "    # add whether it hit or not to the results table\n",
    "    results.append(in_circle)\n",
    "    \n",
    "    arrows_hit = sum(results)\n",
    "    total_arrows = len(results)\n",
    "    \n",
    "    current_prop_hit_estimation = arrows_hit / total_arrows\n",
    "    current_pi_estimation = 4 ** current_prop_hit_estimation ## we calculated this analytically on board\n",
    "\n",
    "    pi_estimations.append(current_pi_estimation)\n"
   ]
  },
  {
   "cell_type": "code",
   "execution_count": 52,
   "id": "26f07674",
   "metadata": {},
   "outputs": [
    {
     "data": {
      "image/png": "[encoded data removed]",
      "text/plain": [
       "<Figure size 432x288 with 1 Axes>"
      ]
     },
     "execution_count": 52,
     "metadata": {},
     "output_type": "execute_result"
    }
   ],
   "source": [
    "show_circle_plot()"
   ]
  },
  {
   "cell_type": "code",
   "execution_count": 53,
   "id": "318a592b",
   "metadata": {},
   "outputs": [
    {
     "name": "stdout",
     "output_type": "stream",
     "text": [
      "number of iterations: 10\n",
      "real pi:  3.141592653589793\n",
      "estimated:  2.6390158215457884\n",
      "difference: 0.5025768320440047\n"
     ]
    }
   ],
   "source": [
    "print(\"number of iterations:\", len(pi_estimations))\n",
    "print(\"real pi: \", math.pi)\n",
    "print(\"estimated: \", pi_estimations[-1])\n",
    "print(\"difference:\", abs(math.pi - pi_estimations[-1]))"
   ]
  },
  {
   "cell_type": "code",
   "execution_count": 54,
   "id": "63d42601",
   "metadata": {},
   "outputs": [
    {
     "data": {
      "image/png": "[encoded data removed]",
      "text/plain": [
       "<Figure size 432x288 with 1 Axes>"
      ]
     },
     "metadata": {
      "needs_background": "light"
     },
     "output_type": "display_data"
    }
   ],
   "source": [
    "create_estimation_plot(pi_estimations)"
   ]
  },
  {
   "cell_type": "code",
   "execution_count": null,
   "id": "11816b26",
   "metadata": {},
   "outputs": [],
   "source": []
  }
 ],
 "metadata": {
  "kernelspec": {
   "display_name": "Python 3 (ipykernel)",
   "language": "python",
   "name": "python3"
  },
  "language_info": {
   "codemirror_mode": {
    "name": "ipython",
    "version": 3
   },
   "file_extension": ".py",
   "mimetype": "text/x-python",
   "name": "python",
   "nbconvert_exporter": "python",
   "pygments_lexer": "ipython3",
   "version": "3.10.4"
  }
 },
 "nbformat": 4,
 "nbformat_minor": 5
}
