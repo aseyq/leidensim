{
 "cells": [
  {
   "cell_type": "markdown",
   "id": "b78fa36c",
   "metadata": {},
   "source": [
    "# Estimating Pi Value using Monte Carlo Simulation"
   ]
  },
  {
   "cell_type": "markdown",
   "id": "2b04101f",
   "metadata": {},
   "source": [
    "Below there are some functions for your convenience. You dont have to understand them. Just execute the code."
   ]
  },
  {
   "cell_type": "code",
   "execution_count": null,
   "id": "e2121f47",
   "metadata": {},
   "outputs": [],
   "source": [
    "import matplotlib.pyplot as plt\n",
    "import math\n",
    "\n",
    "def add_point(x, y):   \n",
    "    ax.scatter(x, y)\n",
    "    \n",
    "def set_circle_plot():\n",
    "    global fig\n",
    "    global ax\n",
    "    fig, ax = plt.subplots()\n",
    "    ax.set(xlim=(-1, 1), ylim=(-1, 1))\n",
    "    ax.set_aspect('equal')\n",
    "    \n",
    "    cir = plt.Circle((0, 0), 1, color='r',fill=False)\n",
    "    ax.add_patch(cir)\n",
    "    plt.close()\n",
    "    \n",
    "def show_circle_plot():\n",
    "    return fig\n",
    "\n",
    "\n",
    "def create_estimation_plot(pi_estimations):\n",
    "    plt.plot(pi_estimations)\n",
    "    plt.axhline(y=math.pi, color='r', linestyle='--')\n",
    "    plt.xlabel(\"Number of trials\")\n",
    "    plt.ylabel(\"Pi estimation\")\n",
    "    plt.ylim(0,5)\n"
   ]
  },
  {
   "cell_type": "markdown",
   "id": "ffc82798",
   "metadata": {},
   "source": [
    "## Ex 1. Get a random x point and random y point between -1, +1"
   ]
  },
  {
   "cell_type": "markdown",
   "id": "9ace5ec8",
   "metadata": {},
   "source": [
    "You can google on how to get a uniformly distributed random number"
   ]
  },
  {
   "cell_type": "code",
   "execution_count": null,
   "id": "611920d2",
   "metadata": {},
   "outputs": [],
   "source": [
    "import random\n",
    "random_x = \n",
    "randdom_y = \n",
    "print(random_x,random_y)"
   ]
  },
  {
   "cell_type": "markdown",
   "id": "11d993a0",
   "metadata": {},
   "source": [
    "### Ex 2. Create a function takes an x and a y value and calculates the distance from the origin"
   ]
  },
  {
   "cell_type": "code",
   "execution_count": null,
   "id": "0f483b92",
   "metadata": {},
   "outputs": [],
   "source": [
    "def distance_from_origin(x,y):\n",
    "    distance = \n",
    "    return distance"
   ]
  },
  {
   "cell_type": "markdown",
   "id": "213cfda6",
   "metadata": {},
   "source": [
    "### Ex 3. Create a function that checks whether the random number is in the square"
   ]
  },
  {
   "cell_type": "code",
   "execution_count": null,
   "id": "5880b9dd",
   "metadata": {},
   "outputs": [],
   "source": [
    "def is_in_circle(x,y):\n"
   ]
  },
  {
   "cell_type": "markdown",
   "id": "a1a21792",
   "metadata": {},
   "source": [
    "### Ex 4. Create an empty list called `results`. Then regenerate a random number and add it to results list."
   ]
  },
  {
   "cell_type": "code",
   "execution_count": null,
   "id": "ac8f730e",
   "metadata": {},
   "outputs": [],
   "source": [
    "# create an empty list\n"
   ]
  },
  {
   "cell_type": "code",
   "execution_count": null,
   "id": "e550dbfb",
   "metadata": {},
   "outputs": [],
   "source": [
    "# keep this one\n",
    "set_circle_plot()"
   ]
  },
  {
   "cell_type": "code",
   "execution_count": null,
   "id": "b73d142d",
   "metadata": {},
   "outputs": [],
   "source": [
    "\n",
    "\n",
    "# keep this one\n",
    "add_point(random_x, random_y)"
   ]
  },
  {
   "cell_type": "code",
   "execution_count": null,
   "id": "26f07674",
   "metadata": {},
   "outputs": [],
   "source": [
    "show_circle_plot()"
   ]
  },
  {
   "cell_type": "code",
   "execution_count": null,
   "id": "da06a427",
   "metadata": {},
   "outputs": [],
   "source": [
    "# results"
   ]
  },
  {
   "cell_type": "code",
   "execution_count": null,
   "id": "545ae630",
   "metadata": {},
   "outputs": [],
   "source": [
    "#print(pi_estimations)"
   ]
  },
  {
   "cell_type": "code",
   "execution_count": null,
   "id": "318a592b",
   "metadata": {},
   "outputs": [],
   "source": [
    "print(\"number of iterations:\", len(pi_estimations))\n",
    "print(\"real pi: \", math.pi)\n",
    "print(\"estimated: \", pi_estimations[-1])\n",
    "print(\"difference:\", abs(math.pi - pi_estimations[-1]))"
   ]
  },
  {
   "cell_type": "code",
   "execution_count": null,
   "id": "63d42601",
   "metadata": {},
   "outputs": [],
   "source": [
    "create_estimation_plot(pi_estimations)"
   ]
  },
  {
   "cell_type": "code",
   "execution_count": null,
   "id": "f2921672",
   "metadata": {},
   "outputs": [],
   "source": []
  }
 ],
 "metadata": {
  "kernelspec": {
   "display_name": "Python 3 (ipykernel)",
   "language": "python",
   "name": "python3"
  },
  "language_info": {
   "codemirror_mode": {
    "name": "ipython",
    "version": 3
   },
   "file_extension": ".py",
   "mimetype": "text/x-python",
   "name": "python",
   "nbconvert_exporter": "python",
   "pygments_lexer": "ipython3",
   "version": "3.10.4"
  }
 },
 "nbformat": 4,
 "nbformat_minor": 5
}
