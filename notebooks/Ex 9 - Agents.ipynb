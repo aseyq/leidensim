{
 "cells": [
  {
   "cell_type": "markdown",
   "id": "de7544b2",
   "metadata": {},
   "source": [
    "### Ex 9.1 Create an agent with the following properties:\n",
    "\n",
    "Class `Agent`\n",
    "#### Attributes\n",
    "- `name`: If provided initially, take it, otherwise 5 random letters\n",
    "- `payoff`: The points the agent get. Initialize from 0\n",
    "- `opponent`: leave it empty for now\n",
    "\n",
    "#### Methods\n",
    "- `say_hi()`: Tell your name and your points\n",
    "- `respond(action)`: You should always cooperate as a response. Cooperate can be represented with a string 'C' and defect with a string 'D'\n"
   ]
  },
  {
   "cell_type": "markdown",
   "id": "ebd19a24",
   "metadata": {},
   "source": [
    "### Ex 9.2 Change the response function to impement a tit-for-tat. If the action is 'D' play 'D', 'C' otherwise.\n"
   ]
  },
  {
   "cell_type": "markdown",
   "id": "0caa4d2f",
   "metadata": {},
   "source": [
    "### Ex 9.2 Create the \"first move\" response, that is if there is no \"action\" provided. You need to check out the default parameter value in python functions for that."
   ]
  },
  {
   "cell_type": "markdown",
   "id": "8ffdb0cc",
   "metadata": {},
   "source": [
    "### Ex 9.3 Create a Prisoner's Dilemma Function. The input is the two actions of each player, and the output is two payoffs for each player."
   ]
  },
  {
   "cell_type": "markdown",
   "id": "a54810f7",
   "metadata": {},
   "source": [
    "### Ex 9.3 Now try to impement the same thing using a dictonary. How would you proceed?"
   ]
  },
  {
   "cell_type": "markdown",
   "id": "0dc8b7ba",
   "metadata": {},
   "source": [
    "### Ex 9.4 Create a loop which lets two agents play a game iteratively. Print out the actions."
   ]
  },
  {
   "cell_type": "code",
   "execution_count": null,
   "id": "337206bf",
   "metadata": {},
   "outputs": [],
   "source": []
  }
 ],
 "metadata": {
  "kernelspec": {
   "display_name": "Python 3 (ipykernel)",
   "language": "python",
   "name": "python3"
  },
  "language_info": {
   "codemirror_mode": {
    "name": "ipython",
    "version": 3
   },
   "file_extension": ".py",
   "mimetype": "text/x-python",
   "name": "python",
   "nbconvert_exporter": "python",
   "pygments_lexer": "ipython3",
   "version": "3.10.4"
  }
 },
 "nbformat": 4,
 "nbformat_minor": 5
}
